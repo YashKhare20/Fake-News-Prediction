{
  "nbformat": 4,
  "nbformat_minor": 0,
  "metadata": {
    "colab": {
      "name": "Fake_News_Detection_using_NaiveBayes.ipynb",
      "provenance": [],
      "collapsed_sections": []
    },
    "kernelspec": {
      "name": "python3",
      "display_name": "Python 3"
    },
    "accelerator": "GPU"
  },
  "cells": [
    {
      "cell_type": "markdown",
      "metadata": {
        "id": "sPzr3r3C6WCZ"
      },
      "source": [
        "# **FAKE NEWS PREDICTION USING NAIVE BAYES**"
      ]
    },
    {
      "cell_type": "markdown",
      "metadata": {
        "id": "y4loZm1y6iRk"
      },
      "source": [
        "**IMPORT LIBRARIES**"
      ]
    },
    {
      "cell_type": "code",
      "metadata": {
        "id": "I_YHGC5H4KgA"
      },
      "source": [
        "import re\n",
        "import pandas as pd\n",
        "from nltk.stem.porter import PorterStemmer\n",
        "from sklearn.feature_extraction.text import TfidfVectorizer\n",
        "from sklearn.model_selection import train_test_split\n",
        "import pickle\n",
        "from sklearn.linear_model import LogisticRegressionCV\n",
        "from sklearn.linear_model import LogisticRegression"
      ],
      "execution_count": null,
      "outputs": []
    },
    {
      "cell_type": "markdown",
      "metadata": {
        "id": "VvnNjB6j6u63"
      },
      "source": [
        "**LOAD CSV FILE**"
      ]
    },
    {
      "cell_type": "code",
      "metadata": {
        "id": "DGfvrbQp4xVw",
        "colab": {
          "base_uri": "https://localhost:8080/",
          "height": 122
        },
        "outputId": "66a659b3-55bb-4653-ba6a-6ef273e78b6d"
      },
      "source": [
        "from google.colab import drive\n",
        "drive.mount('/content/drive')"
      ],
      "execution_count": null,
      "outputs": [
        {
          "output_type": "stream",
          "text": [
            "Go to this URL in a browser: https://accounts.google.com/o/oauth2/auth?client_id=947318989803-6bn6qk8qdgf4n4g3pfee6491hc0brc4i.apps.googleusercontent.com&redirect_uri=urn%3aietf%3awg%3aoauth%3a2.0%3aoob&response_type=code&scope=email%20https%3a%2f%2fwww.googleapis.com%2fauth%2fdocs.test%20https%3a%2f%2fwww.googleapis.com%2fauth%2fdrive%20https%3a%2f%2fwww.googleapis.com%2fauth%2fdrive.photos.readonly%20https%3a%2f%2fwww.googleapis.com%2fauth%2fpeopleapi.readonly\n",
            "\n",
            "Enter your authorization code:\n",
            "··········\n",
            "Mounted at /content/drive\n"
          ],
          "name": "stdout"
        }
      ]
    },
    {
      "cell_type": "code",
      "metadata": {
        "id": "G-HkFGXn4yiX",
        "colab": {
          "base_uri": "https://localhost:8080/",
          "height": 204
        },
        "outputId": "d363c2c1-8640-444f-f6c6-f49961fd4669"
      },
      "source": [
        "df = pd.read_csv('/content/drive/My Drive/Projects - Hackathon/FakeNews Detection/Fake_or_real_news.csv', usecols=[\"title\",\"text\",\"label\"]) \n",
        "df.head()"
      ],
      "execution_count": null,
      "outputs": [
        {
          "output_type": "execute_result",
          "data": {
            "text/html": [
              "<div>\n",
              "<style scoped>\n",
              "    .dataframe tbody tr th:only-of-type {\n",
              "        vertical-align: middle;\n",
              "    }\n",
              "\n",
              "    .dataframe tbody tr th {\n",
              "        vertical-align: top;\n",
              "    }\n",
              "\n",
              "    .dataframe thead th {\n",
              "        text-align: right;\n",
              "    }\n",
              "</style>\n",
              "<table border=\"1\" class=\"dataframe\">\n",
              "  <thead>\n",
              "    <tr style=\"text-align: right;\">\n",
              "      <th></th>\n",
              "      <th>title</th>\n",
              "      <th>text</th>\n",
              "      <th>label</th>\n",
              "    </tr>\n",
              "  </thead>\n",
              "  <tbody>\n",
              "    <tr>\n",
              "      <th>0</th>\n",
              "      <td>You Can Smell Hillarys Fear</td>\n",
              "      <td>Daniel Greenfield, a Shillman Journalism Fello...</td>\n",
              "      <td>FAKE</td>\n",
              "    </tr>\n",
              "    <tr>\n",
              "      <th>1</th>\n",
              "      <td>Watch The Exact Moment Paul Ryan Committed Pol...</td>\n",
              "      <td>Google Pinterest Digg Linkedin Reddit Stumbleu...</td>\n",
              "      <td>FAKE</td>\n",
              "    </tr>\n",
              "    <tr>\n",
              "      <th>2</th>\n",
              "      <td>Kerry to go to Paris in gesture of sympathy</td>\n",
              "      <td>U.S. Secretary of State John F. Kerry said Mon...</td>\n",
              "      <td>REAL</td>\n",
              "    </tr>\n",
              "    <tr>\n",
              "      <th>3</th>\n",
              "      <td>Bernie supporters on Twitter erupt in anger ag...</td>\n",
              "      <td>— Kaydee King (@KaydeeKing) November 9, 2016 T...</td>\n",
              "      <td>FAKE</td>\n",
              "    </tr>\n",
              "    <tr>\n",
              "      <th>4</th>\n",
              "      <td>The Battle of New York: Why This Primary Matters</td>\n",
              "      <td>It's primary day in New York and front-runners...</td>\n",
              "      <td>REAL</td>\n",
              "    </tr>\n",
              "  </tbody>\n",
              "</table>\n",
              "</div>"
            ],
            "text/plain": [
              "                                               title  ... label\n",
              "0                        You Can Smell Hillarys Fear  ...  FAKE\n",
              "1  Watch The Exact Moment Paul Ryan Committed Pol...  ...  FAKE\n",
              "2        Kerry to go to Paris in gesture of sympathy  ...  REAL\n",
              "3  Bernie supporters on Twitter erupt in anger ag...  ...  FAKE\n",
              "4   The Battle of New York: Why This Primary Matters  ...  REAL\n",
              "\n",
              "[5 rows x 3 columns]"
            ]
          },
          "metadata": {
            "tags": []
          },
          "execution_count": 5
        }
      ]
    },
    {
      "cell_type": "code",
      "metadata": {
        "id": "nxIylweT6BFU",
        "colab": {
          "base_uri": "https://localhost:8080/",
          "height": 419
        },
        "outputId": "76882e12-c9ea-4190-828d-d73a39326a1e"
      },
      "source": [
        "df.duplicated().sum()\n",
        "df.drop_duplicates(inplace=True)\n",
        "df"
      ],
      "execution_count": null,
      "outputs": [
        {
          "output_type": "execute_result",
          "data": {
            "text/html": [
              "<div>\n",
              "<style scoped>\n",
              "    .dataframe tbody tr th:only-of-type {\n",
              "        vertical-align: middle;\n",
              "    }\n",
              "\n",
              "    .dataframe tbody tr th {\n",
              "        vertical-align: top;\n",
              "    }\n",
              "\n",
              "    .dataframe thead th {\n",
              "        text-align: right;\n",
              "    }\n",
              "</style>\n",
              "<table border=\"1\" class=\"dataframe\">\n",
              "  <thead>\n",
              "    <tr style=\"text-align: right;\">\n",
              "      <th></th>\n",
              "      <th>title</th>\n",
              "      <th>text</th>\n",
              "      <th>label</th>\n",
              "    </tr>\n",
              "  </thead>\n",
              "  <tbody>\n",
              "    <tr>\n",
              "      <th>0</th>\n",
              "      <td>You Can Smell Hillarys Fear</td>\n",
              "      <td>Daniel Greenfield, a Shillman Journalism Fello...</td>\n",
              "      <td>FAKE</td>\n",
              "    </tr>\n",
              "    <tr>\n",
              "      <th>1</th>\n",
              "      <td>Watch The Exact Moment Paul Ryan Committed Pol...</td>\n",
              "      <td>Google Pinterest Digg Linkedin Reddit Stumbleu...</td>\n",
              "      <td>FAKE</td>\n",
              "    </tr>\n",
              "    <tr>\n",
              "      <th>2</th>\n",
              "      <td>Kerry to go to Paris in gesture of sympathy</td>\n",
              "      <td>U.S. Secretary of State John F. Kerry said Mon...</td>\n",
              "      <td>REAL</td>\n",
              "    </tr>\n",
              "    <tr>\n",
              "      <th>3</th>\n",
              "      <td>Bernie supporters on Twitter erupt in anger ag...</td>\n",
              "      <td>— Kaydee King (@KaydeeKing) November 9, 2016 T...</td>\n",
              "      <td>FAKE</td>\n",
              "    </tr>\n",
              "    <tr>\n",
              "      <th>4</th>\n",
              "      <td>The Battle of New York: Why This Primary Matters</td>\n",
              "      <td>It's primary day in New York and front-runners...</td>\n",
              "      <td>REAL</td>\n",
              "    </tr>\n",
              "    <tr>\n",
              "      <th>...</th>\n",
              "      <td>...</td>\n",
              "      <td>...</td>\n",
              "      <td>...</td>\n",
              "    </tr>\n",
              "    <tr>\n",
              "      <th>52781</th>\n",
              "      <td>'Fully committed' NATO backs new U.S. approach...</td>\n",
              "      <td>BRUSSELS (Reuters) - NATO allies on Tuesday we...</td>\n",
              "      <td>REAL</td>\n",
              "    </tr>\n",
              "    <tr>\n",
              "      <th>52782</th>\n",
              "      <td>LexisNexis withdrew two products from Chinese ...</td>\n",
              "      <td>LONDON (Reuters) - LexisNexis, a provider of l...</td>\n",
              "      <td>REAL</td>\n",
              "    </tr>\n",
              "    <tr>\n",
              "      <th>52783</th>\n",
              "      <td>Minsk cultural hub becomes haven from authorities</td>\n",
              "      <td>MINSK (Reuters) - In the shadow of disused Sov...</td>\n",
              "      <td>REAL</td>\n",
              "    </tr>\n",
              "    <tr>\n",
              "      <th>52784</th>\n",
              "      <td>Vatican upbeat on possibility of Pope Francis ...</td>\n",
              "      <td>MOSCOW (Reuters) - Vatican Secretary of State ...</td>\n",
              "      <td>REAL</td>\n",
              "    </tr>\n",
              "    <tr>\n",
              "      <th>52785</th>\n",
              "      <td>Indonesia to buy $1.14 billion worth of Russia...</td>\n",
              "      <td>JAKARTA (Reuters) - Indonesia will buy 11 Sukh...</td>\n",
              "      <td>REAL</td>\n",
              "    </tr>\n",
              "  </tbody>\n",
              "</table>\n",
              "<p>46271 rows × 3 columns</p>\n",
              "</div>"
            ],
            "text/plain": [
              "                                                   title  ... label\n",
              "0                            You Can Smell Hillarys Fear  ...  FAKE\n",
              "1      Watch The Exact Moment Paul Ryan Committed Pol...  ...  FAKE\n",
              "2            Kerry to go to Paris in gesture of sympathy  ...  REAL\n",
              "3      Bernie supporters on Twitter erupt in anger ag...  ...  FAKE\n",
              "4       The Battle of New York: Why This Primary Matters  ...  REAL\n",
              "...                                                  ...  ...   ...\n",
              "52781  'Fully committed' NATO backs new U.S. approach...  ...  REAL\n",
              "52782  LexisNexis withdrew two products from Chinese ...  ...  REAL\n",
              "52783  Minsk cultural hub becomes haven from authorities  ...  REAL\n",
              "52784  Vatican upbeat on possibility of Pope Francis ...  ...  REAL\n",
              "52785  Indonesia to buy $1.14 billion worth of Russia...  ...  REAL\n",
              "\n",
              "[46271 rows x 3 columns]"
            ]
          },
          "metadata": {
            "tags": []
          },
          "execution_count": 6
        }
      ]
    },
    {
      "cell_type": "markdown",
      "metadata": {
        "id": "htOJK1nJ5_OD"
      },
      "source": [
        "**DATA PRE-PROCESSING**"
      ]
    },
    {
      "cell_type": "code",
      "metadata": {
        "id": "g5DcubQF6VVp",
        "colab": {
          "base_uri": "https://localhost:8080/",
          "height": 85
        },
        "outputId": "da2950fb-2896-4f6d-ecf2-98697034e323"
      },
      "source": [
        "df.dropna(inplace=True)\n",
        "df.isna().sum()"
      ],
      "execution_count": null,
      "outputs": [
        {
          "output_type": "execute_result",
          "data": {
            "text/plain": [
              "title    0\n",
              "text     0\n",
              "label    0\n",
              "dtype: int64"
            ]
          },
          "metadata": {
            "tags": []
          },
          "execution_count": 7
        }
      ]
    },
    {
      "cell_type": "code",
      "metadata": {
        "id": "Zs-TQSEn6eZg"
      },
      "source": [
        "x = df['title'] + \"\" + df['text']\n",
        "y = df['label']"
      ],
      "execution_count": null,
      "outputs": []
    },
    {
      "cell_type": "code",
      "metadata": {
        "id": "kVLOiMPM7Gon",
        "colab": {
          "base_uri": "https://localhost:8080/",
          "height": 137
        },
        "outputId": "82b15cfe-a8e6-4252-df4a-5ed933c1d60b"
      },
      "source": [
        "def preprocessor(text):\n",
        "    \n",
        "    text = re.sub('<[^>]*>', '', text)\n",
        "    text = re.sub(r'[^\\w\\s]','', text)\n",
        "    text = text.lower()\n",
        "    return text\n",
        "x = x.apply(preprocessor)\n",
        "x[50]"
      ],
      "execution_count": null,
      "outputs": [
        {
          "output_type": "execute_result",
          "data": {
            "application/vnd.google.colaboratory.intrinsic+json": {
              "type": "string"
            },
            "text/plain": [
              "'american politics has reached peak polarizationfor a long time in american politics weve been trapped in a cycle of everescalating political polarization as measured by voting patterns in the us congress the two parties have pulled apart to distances weve never seen before as measured by consistent partisan positioning among voters the split in the electorate has reached a historic level of divisiveness\\n\\nbut this is about to end weve now hit peak polarization the forces that have fueled the widening gap between the two political parties are now fueling fights within the two political parties fights that will lead to new coalitions in american politics eventually realigning the two parties a new era of american politics is about to emerge\\n\\nthe tautological reason polarization has increased in american politics is that over the past four decades conflict in american politics has increasingly operated along a single dimension republican versus democrat a large number of issues that were once nonpartisan or nonideological have become partisan issues almost every policy has now been swept into the maw of partisan jockeying leaving almost no space for the crosspartisan cooperation our political system relies on to function\\n\\nin order for congressional polarization to persist both parties have to maintain tight enough discipline over their members and the political agenda to ensure consistent party voting and in order for public polarization to persist parties have to maintain tight enough message discipline among their elites to ensure that their voters only hear one main message\\n\\nthis is breaking down republicans are now in open warfare between trump supporters and nevertrumpers democrats are far less divided but internal rifts between their establishment hillary clinton and insurgent bernie sanders wings are also real and likely lasting\\n\\nthis conflict is emerging on issues of international trade on questions of corporate especially wall street power and in growing anger over money in politics and corruption generally in short parties are increasingly divided on a growing range of issues that pit their lesseducated lowerincome voters who feel left behind by the current politicaleconomic system against their bettereducated higherincome voter who dont want to mess too much with the status quo these conflicts are not going away anytime soon\\n\\nthis moment is the culmination of four interconnected but ultimately unsustainable trends that have turbocharged polarization over the last two decades\\n\\nclose competition fueled partisan nastiness and increased the demand for campaign money the demand for campaign money made the parties more dependent on wealthy donors which made them less responsive to their voters this lack of responsiveness provided plenty of evidence for corruption and the felt sense that politics was broken which fueled anger both parties attempted to channel this anger against the other party to distract from their own failures and contradictions and win elections by rendering the other party toxic this exacerbated the sense that politics was broken and corrupt\\n\\nthese trends created contradictions and now these contradictions have created openings ambitious candidates who could get past their parties campaign finance gatekeepers had a lot of angry and leftbehind voters eager for their message and this is precisely what sanders and especially donald trump have accomplished now there is no going back\\n\\nthese are big claims so lets flesh this story out a little more this time with expanded detail\\n\\nthe story could go all the way back to the decisive election of 1932 when democrats became the dominant party in american politics for a generation holding together a bigtent new deal coalition that included southern prosegregationists with northern urban progressives but it was an uneasy alliance that could only last as long as civil rights legislation was bottled up then in 1964 the democrats decidedly became the party of civil rights and as lyndon johnson allegedly acknowledged upon signing the 1964 civil rights act the democrats have lost the south for a generation\\n\\ndemocrats had controlled the south ever since republicanled reconstruction since republicans were the party of lincoln and of reconstruction but as republicans came to be the party better aligned with the south on issues of race conservative republicans replaced conservative democrats in southern house and senate seats starting in the 1980s by 1995 when republicans won the house for the first time in 40 years this transition was mostly complete by 2011 it was absolute and total\\n\\nas this all happened the ideological center of the republican party moved to the south fusing social and economic conservatism northern liberal republicans were marginalized and soon endangered democrats meanwhile lost their southern conservative wing and the ideological center of the democratic party moved to the coasts and big cities fusing social and economic liberalism\\n\\nas the parties became less internally diverse individual members of congress delegated more power to their party leaders after all they all now basically agreed on the issues and they wanted leaders who could punish disloyal dissenters and control the agenda so when newt gingrich took over the speakership in 1995 he centralized power in the position in a way it had not been centralized since 1910\\n\\nin the 1990s american politics entered a somewhat unusual period of remarkably close twoparty competition for control of the house and the senate\\n\\nthis as political scientist frances lee explains has been the catalyst for a very nasty brand of partisan fighting\\n\\nthis seems exactly right to me and theres lots of evidence to prove it\\n\\nbut not only has this close competition fueled partisanship by turning legislating into zerosum trench warfare it has also turbocharged the fundraising dimension of political campaigning\\n\\nparties are campaigning harder than ever to win over those swing seats and this has meant raising everexpanding sums of money and in order to raise this money both parties have had to lean more and more on their wealthiest donors\\n\\nbut relying on these wealthy donors created a problem for both parties on many issues particularly economic issues wealthy elites hold separate opinions from most voters\\n\\nmajor republican donors generally want fiscal austerity and particularly a rolledback welfare state they also tend to be much more proimmigration and profree trade than republican voters and not particularly worried about social issues but schemes like privatizing social security and voucherizing medicare have never been all that popular with actual republican voters and as the middle classes wages have stagnated especially for those without college degrees and the share of foreignborn residents in the us has reached levels not seen since the 1920s it hit 139 percent in 2015 the voting constituency for antiimmigration populism has grown considerably\\n\\ndemocratic donors are somewhat more economically liberal but they are not about to support sandersstyle socialism they prefer clintons generally promarket views they will tolerate some regulation of business but not that much particularly when its the tech and new economy businesses that they run and invest in\\n\\nwhereas democrats once relied on labor unions to get out the vote by the 1990s unions could no longer provide the support democrats needed democrats instead moved to depend on the professional class deprioritizing workers concerns to focus instead on the social and environmental concerns that went over much better in hollywood and san francisco and manhattan fundraisers\\n\\nfor a while both parties could manage these contradictions being responsive to their donors while poohpoohing the economic concerns of their less affluent voters on the bland promise that a thriving economy was good for everyone and for much of the 1990s and 2000s the economy was doing okay which generally kept voters from feeling too angry and to the extent that individual voters werent benefiting it was of course the other partys fault\\n\\nas long as both sides were focused on the evils of the other side and the economy was not in a major recession party leaders could get away with ignoring many of their voters and using the campaign contribution proceeds to make their case through more and more negative political advertising and aggressive media messaging\\n\\nthis negativity translated into what political scientists alan abramowitz and steven webster call negative partisanship as they explain\\n\\nall these interrelated trends have turbocharged polarization over the last two decades but they relied on both sides being able to control the anger that they were stoking and on both sides being able to convince their voters that all of the corruption and fecklessness in washington was because of the other party this could not go on indefinitely\\n\\nin fall 2008 the financial crisis hit and the government bailed out the big wall street banks in a very public way for many this served as the decisive proof that things really were rigged washington and wall street were in a corrupt alliance a conspiracy of career politicians and crony capitalists and lobbyists who were rolling in the money and laughing about it while everyone else was living paycheck to paycheck as the economy stumbled through recession and then a jobless recovery economic insecurity and political resentment increased\\n\\nobama and the democrats swept the 2008 election on the strength of antibush feeling and the timeless energy of hope and change for the first time since 1992 democrats had unified control in washington republicans were now out in the cold\\n\\nwith their backs against the wall and democrats as the new washington establishment republicans now turned their antigovernment rhetoric up to 11 obama was stalin obama was hitler obama was a kenyanborn muslim bent on destroying america democrats responded to the charges with signature biggovernment legislation that taxed the middle class so that poor people could have governmentsubsidized health care the republican base went crazy all their worst fears were confirmed\\n\\nin 2009 the tea party emerged representing what felt like new antiestablishment radicalism but was really just the culmination of decades of republican antigovernment rhetoric now freed from any institutional responsibility for actually governing in 2010 on the strength of tea party antiobama energy and the fact that democrats had won a bunch of majority republican house districts in 2006 and 2008 republicans swept back into control of the house in the 2014 election they finally won back the senate\\n\\nbut then nothing happened obamacare the devil piñata of every republican attack was neither repealed nor replaced worse republican leaders were negotiating with obama satan himself they were letting obama get away with an executive order on immigration here was the most corrupt most crony capitalist administration in history and what were republicans in congress doing they were rolling over and being just as corrupt\\n\\nin june 2015 donald trump announced he was running for president and became the immediate frontrunner on the strength of his aggressive antiimmigration stance because he had his own money and his own media celebrity trump did not need to do the proausterity proimmigration profree trade dance that other potential frontrunners had done to shake the big donor gop money tree he could just run for president declaring everything was corrupt and he was the only one you could trust because he was the only one who didnt have a super pac and he could speak to the workingclass republican voters who had been left behind in this economy by saying hed go after china and give them social security and medicare and go after the corrupt hedge fund ripoff artists\\n\\nand they loved it for decades they had been told for partisan reasons to be angry they had been told for partisan reasons that washington was corrupt and that all washington politicians were evil now they finally had somebody who could say those things while actually not embodying any telltale signs of the sins they also had somebody who could finally and authentically call out all the corrupt things republican establishment types themselves were doing\\n\\na few months later in september republican speaker john boehner announced he would resign from congress responding to efforts by the house freedom caucus to force him out this was the first time since 1910 that an insurgent faction in the house had successfully challenged a sitting speaker the antiestablishment anger that republicans had courted had now finally turned on its leaders\\n\\non the democratic side anticlinton progressives were hoping to draft elizabeth warren who had demonstrated her antiestablishment bona fides in december 2014 sinking obamas appointment of wall street banker antonio weiss for a top treasury position weiss withdrew his nomination instead accepting a counselor position to secretary jack lew warren had also been a prominent opponent of obamas major asian free trade agreement\\n\\nbut warren didnt run instead it was selfidentified socialist bernie sanders who found the opening democratic donor gatekeepers had cleared the field for hillary this meant sanders could get attention just for being the only real alternative attention that he was able to snowball into a following sanders wont win the nomination but he has done far far better than anybody ever expected because a sizable number of democrat voters share his view that politics is a rigged game where the billionaires and the crony capitalists always win and like sanders they are sick and tired of it\\n\\nif you briefly scroll back to the top of this article and look at the graph of polarization over time youll see a previous peak around 1910 or so while historical analogies are never perfect there are some notable similarities between now and around 1910\\n\\nfor one 1910 was the last time a sitting speaker of the us house had been effectively challenged from within the party second in 1912 the republican party was so divided over its presidential nomination that the party splintered with about half of republicans supporting howard taft the incumbent and about half supporting teddy roosevelt the previous incumbent democrat woodrow wilson won in a landslide\\n\\naround 1910 was also when the last great antiestablishment movement in america the progressive movement emerged in response to growing concentrations of wealth and political power concentrations that many americans felt had left them behind as political scientist grant mcconnell once wrote of the progressive legacy it consisted of a charges made against virtually all the institutions of american society with one common theme  corruption  corruption of such prevalence disorder of such magnitude could only be explained by something more than the assumption of a slowspreading decay the theory of conspiracy was ready at hand and in one way or another it was invoked as an explanation this resonates with todays antiestablishment mood\\n\\npolitical scientist hans noel has argued that the emergence of the progressive movement crosscut the parties and eventually reshaped them noel notes that progressives opposed existing authority structures both economically eg the trusts and politically they disliked political parties and other authority structures\\n\\nin 1910 it was progressive republican george norris who led the internal house revolt against speaker joe cannon stripping cannon of most of his authority and devolving considerable powers back to individual members who had increasingly chafed under their marginalization like john boehner in 2015 cannon in 1910 represented the culmination of exactly 20 years of increasingly centralized leadership control in the house speakership just as gingrich had radically centralized control in 1995 speaker thomas reed had radically centralized control in 1890\\n\\nparties depolarized in the 1910s and 1920s because freed of centralized leadership structures more legislating happened in committees where a crosscutting progressive coalition could more freely operate independently of the two parties interestingly trade policy also became much less polarized in the 1920s with crossparty coalitions on tariff issues\\n\\nmost likely trump will be the republican nominee even if the nevertrump forces somehow wrest the nomination from him unlikely but possible the antiestablishment forces in the republican party are not going away if not trump though my guess is he will stick around for a while longer somebody in the tea party or possibly even ted cruz will find a way to harness the trump voters by following the trump issues playbook where there are voters to be had there are politicians to have them\\n\\nmeanwhile in congress house speaker paul ryan is already having difficulty building consensus around a budget process no matter how many speeches he gives about the importance of decorum in politics it seems increasingly unlikely that he can reconcile the conflicts that boehner failed to resolve which means he will have to eventually lean on democrats to pass a budget and like boehner before him alienate some of his party senate majority leader mitch mcconnell much less beloved even within his party will face similar problems\\n\\nmost likely hillary clinton will become the 45th\\xa0us president she has led in every single headtohead poll against trump and most likely she will use her agendasetting powers to try to force the republicans into open civil war by pushing many of the issues that already divide them especially immigration and trade clintons natural home is in the probusiness center a position that will be advantageous to her and democrats in the short term at least but she has to be cautious emboldened by sanders and by elizabeth warren the progressive wing of the democrats is growing and will be unhappy with clintons probusiness instincts\\n\\nthe internal fights will continue in both parties the competing wings of both parties will feel that they are the true republicansdemocrats the growing importance of outside nonparty groups in elections will also force ideological diversity onto the parties party leaders might instinctually want to wrest power back from these outside groups but theyd be wiser to open up their tent to allow for different ideas after all the party that does best in american politics is always the one that can build the broadest coalition which means accepting ideological diversity\\n\\neventually congressional leaders will realize or be forced to realize that the only leadership style that works is a less centralized more committeedriven approach this is the only way ideologically heterogeneous parties can effectively govern a more decentralized congress with more fluid coalitions will function better assuming that a more committeedriven process is also accompanied by increases in congressional staffing capacity partisan control of congress will mean less since there will be more crossparty coalitions\\n\\nmany issues like gun rights or affirmative action will remain very partisan but other issues especially those of corporatewall street power antitrust interventionist foreign policy will likely split the parties trump republicans and sanders democrats will find common cause against establishment centrists big organized interests like the chamber of commerce and other corporate groups will align less closely with republicans realizing that their future success will require the right mix of republicans and democrats to advance their agendas\\n\\nand as the parties become more ideological diverse voters who are generally more ideologically all over the place than the current party alignment would suggest will identify less reliably with one or the other since there will be more for them in both parties they will again sometimes split their tickets depending on who is running many will feel more passionate about individual issues and will align themselves with supporters of those issues in both parties especially as individual interest groups become crosspartisan in order to achieve policy outcomes in that respect politics will come to look more like it did in the 1950s and 1970s when liberal republicans existed alongside conservative democrats\\n\\nthis is an optimistic scenario\\n\\nbut it only works if party leaders tolerate diversity within their party and allow disagreements\\n\\nanother scenario is that establishment republicans banish the trump faction and democrats banish the sanders faction after the 2016 elections and both parties go back to the predictable and intractable trench warfare battle lines that have become increasingly dug in over the past two decades using nastier and nastier tactics to subvert internal divisions in service of the larger fight against a common enemy this may be possible for a little while longer especially if the economy improves significantly but it is still probably longterm unsustainable for reasons ive described above it also may mean that 2020 becomes an even more violent and nasty election\\n\\nanother possibility is that the parties realign quickly with the trumptea party faction effecting a rapid transformation of the republican party into a downscale nationalist populist party pushing the remaining upperclass moderate republicans into a more probusiness democratic party which in turn pushes some disaffected sanders voters into the republican party if this realignment happens too quickly there is no period of depolarization but this seems unlikely given the stickiness of partisan identity and the strong disagreements between the two parties on a whole range of other issues\\n\\nother scenarios are possible as well especially if there are significant global crises\\n\\nbut heres the bottom line something is different this year in american politics the logic that has operated for the past two decades or so is breaking down largely because the factors and trends that propelled it produced unsustainable contradictions american politics is now entering a new logic with new trends and forces that will push the lines of political conflict in directions we are only beginning to understand\\n\\nthis feels like chaos and it is but it is also good news because chaos scrambles the rules weve hit peak polarization politics is slowly coming unstuck a period of new possibilities awaits\\n\\nthis post is part of polyarchy an independent blog produced by the political reform program at new america a washington think tank devoted to developing new ideas and new voices see more polyarchy posts here'"
            ]
          },
          "metadata": {
            "tags": []
          },
          "execution_count": 9
        }
      ]
    },
    {
      "cell_type": "code",
      "metadata": {
        "id": "K2v6E38r7Oiw"
      },
      "source": [
        "# Stemming\n",
        "porter = PorterStemmer()\n",
        "def tokenizer_porter(text):\n",
        "    return [porter.stem(word) for word in text.split()]"
      ],
      "execution_count": null,
      "outputs": []
    },
    {
      "cell_type": "code",
      "metadata": {
        "id": "Wkx6OFF67T4E"
      },
      "source": [
        "# Convert dataframe to a matrix of TF-IDF features.\n",
        "tfidf = TfidfVectorizer(strip_accents=None,\n",
        "                        lowercase=False,\n",
        "                        preprocessor=None,\n",
        "                        tokenizer=tokenizer_porter,\n",
        "                        use_idf=True,\n",
        "                        norm='l2',\n",
        "                        smooth_idf=True)\n",
        "X = tfidf.fit_transform(x)"
      ],
      "execution_count": null,
      "outputs": []
    },
    {
      "cell_type": "markdown",
      "metadata": {
        "id": "n4lS1JTa6qTF"
      },
      "source": [
        "**TRAIN MODEL**"
      ]
    },
    {
      "cell_type": "code",
      "metadata": {
        "id": "vNjPN0ls_5EB"
      },
      "source": [
        "# Train-Test Split\n",
        "X_train, X_rest, y_train, y_rest = train_test_split(X, y, test_size=0.2, random_state=42)\n",
        "X_val, X_test, y_val, y_test = train_test_split(X_rest, y_rest, test_size=0.5, random_state=42)"
      ],
      "execution_count": null,
      "outputs": []
    },
    {
      "cell_type": "code",
      "metadata": {
        "id": "VVzV-GXG9FDN",
        "colab": {
          "base_uri": "https://localhost:8080/",
          "height": 34
        },
        "outputId": "2c776117-466b-4f90-cd75-8d174acf12ea"
      },
      "source": [
        "# Fit & Evaluate Model\n",
        "from sklearn.naive_bayes import MultinomialNB\n",
        "clf = MultinomialNB()\n",
        "clf.fit(X_train,y_train)\n",
        "clf.score(X_test,y_test)"
      ],
      "execution_count": null,
      "outputs": [
        {
          "output_type": "execute_result",
          "data": {
            "text/plain": [
              "0.8891797556719022"
            ]
          },
          "metadata": {
            "tags": []
          },
          "execution_count": 22
        }
      ]
    }
  ]
}
