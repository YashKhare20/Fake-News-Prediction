{
  "nbformat": 4,
  "nbformat_minor": 0,
  "metadata": {
    "kernelspec": {
      "display_name": "Python 3",
      "language": "python",
      "name": "python3"
    },
    "language_info": {
      "codemirror_mode": {
        "name": "ipython",
        "version": 3
      },
      "file_extension": ".py",
      "mimetype": "text/x-python",
      "name": "python",
      "nbconvert_exporter": "python",
      "pygments_lexer": "ipython3",
      "version": "3.7.6"
    },
    "colab": {
      "name": "Fake_News_Detection_using_LSTM.ipynb",
      "provenance": [],
      "collapsed_sections": []
    },
    "accelerator": "GPU"
  },
  "cells": [
    {
      "cell_type": "markdown",
      "metadata": {
        "id": "KnB3e6H8IFuP"
      },
      "source": [
        "# **DEEP LEARNING MODEL USING LSTM TO PREDICT FAKE NEWS**"
      ]
    },
    {
      "cell_type": "markdown",
      "metadata": {
        "id": "WDf_2plXIFuQ"
      },
      "source": [
        "**IMPORTING LIBRARIES**"
      ]
    },
    {
      "cell_type": "code",
      "metadata": {
        "id": "FBNBotKaIFuS",
        "colab": {
          "base_uri": "https://localhost:8080/",
          "height": 34
        },
        "outputId": "bec97afa-fccc-484a-b98f-d000be4295f4"
      },
      "source": [
        "import re\n",
        "import os\n",
        "import urllib\n",
        "import pandas as pd\n",
        "import numpy as np\n",
        "import nltk\n",
        "import keras\n",
        "from nltk.corpus import stopwords\n",
        "from tensorflow.keras import regularizers, initializers, optimizers, callbacks\n",
        "from tensorflow.keras.preprocessing.sequence import pad_sequences\n",
        "from tensorflow.keras.preprocessing.text import Tokenizer\n",
        "from keras.utils.np_utils import to_categorical\n",
        "from tensorflow.keras.layers import *\n",
        "from tensorflow.keras.models import Sequential\n",
        "from keras.models import Sequential\n",
        "from keras.layers import Activation, Dropout, Flatten, Dense, BatchNormalization, LSTM, Embedding, Reshape\n",
        "from keras.models import load_model, model_from_json\n",
        "from sklearn.model_selection import train_test_split\n",
        "from urllib.request import urlretrieve\n",
        "from os import mkdir, makedirs, remove, listdir\n",
        "from collections import Counter"
      ],
      "execution_count": null,
      "outputs": [
        {
          "output_type": "stream",
          "text": [
            "Using TensorFlow backend.\n"
          ],
          "name": "stderr"
        }
      ]
    },
    {
      "cell_type": "markdown",
      "metadata": {
        "id": "WhOb5AA6IFuZ"
      },
      "source": [
        "**LOAD DATA**"
      ]
    },
    {
      "cell_type": "code",
      "metadata": {
        "id": "-kJY3DvlISCp",
        "colab": {
          "base_uri": "https://localhost:8080/",
          "height": 122
        },
        "outputId": "b2681beb-5b7f-4c5e-fce4-38aa35131510"
      },
      "source": [
        "from google.colab import drive\n",
        "drive.mount('/content/drive')"
      ],
      "execution_count": null,
      "outputs": [
        {
          "output_type": "stream",
          "text": [
            "Go to this URL in a browser: https://accounts.google.com/o/oauth2/auth?client_id=947318989803-6bn6qk8qdgf4n4g3pfee6491hc0brc4i.apps.googleusercontent.com&redirect_uri=urn%3aietf%3awg%3aoauth%3a2.0%3aoob&response_type=code&scope=email%20https%3a%2f%2fwww.googleapis.com%2fauth%2fdocs.test%20https%3a%2f%2fwww.googleapis.com%2fauth%2fdrive%20https%3a%2f%2fwww.googleapis.com%2fauth%2fdrive.photos.readonly%20https%3a%2f%2fwww.googleapis.com%2fauth%2fpeopleapi.readonly\n",
            "\n",
            "Enter your authorization code:\n",
            "··········\n",
            "Mounted at /content/drive\n"
          ],
          "name": "stdout"
        }
      ]
    },
    {
      "cell_type": "code",
      "metadata": {
        "id": "9FhbUa72IFuZ",
        "colab": {
          "base_uri": "https://localhost:8080/",
          "height": 204
        },
        "outputId": "285cbef3-70c4-4d6c-9f0f-079507473b78"
      },
      "source": [
        "df = pd.read_csv('/content/drive/My Drive/Projects - Hackathon/FakeNews Detection/Fake_or_real_news.csv', usecols=[\"title\",\"text\",\"label\"]) \n",
        "#df = pd.read_csv('/content/drive/My Drive/FakeNews Detection/fake_or_real_news.csv')\n",
        "df.head()"
      ],
      "execution_count": null,
      "outputs": [
        {
          "output_type": "execute_result",
          "data": {
            "text/html": [
              "<div>\n",
              "<style scoped>\n",
              "    .dataframe tbody tr th:only-of-type {\n",
              "        vertical-align: middle;\n",
              "    }\n",
              "\n",
              "    .dataframe tbody tr th {\n",
              "        vertical-align: top;\n",
              "    }\n",
              "\n",
              "    .dataframe thead th {\n",
              "        text-align: right;\n",
              "    }\n",
              "</style>\n",
              "<table border=\"1\" class=\"dataframe\">\n",
              "  <thead>\n",
              "    <tr style=\"text-align: right;\">\n",
              "      <th></th>\n",
              "      <th>title</th>\n",
              "      <th>text</th>\n",
              "      <th>label</th>\n",
              "    </tr>\n",
              "  </thead>\n",
              "  <tbody>\n",
              "    <tr>\n",
              "      <th>0</th>\n",
              "      <td>You Can Smell Hillarys Fear</td>\n",
              "      <td>Daniel Greenfield, a Shillman Journalism Fello...</td>\n",
              "      <td>FAKE</td>\n",
              "    </tr>\n",
              "    <tr>\n",
              "      <th>1</th>\n",
              "      <td>Watch The Exact Moment Paul Ryan Committed Pol...</td>\n",
              "      <td>Google Pinterest Digg Linkedin Reddit Stumbleu...</td>\n",
              "      <td>FAKE</td>\n",
              "    </tr>\n",
              "    <tr>\n",
              "      <th>2</th>\n",
              "      <td>Kerry to go to Paris in gesture of sympathy</td>\n",
              "      <td>U.S. Secretary of State John F. Kerry said Mon...</td>\n",
              "      <td>REAL</td>\n",
              "    </tr>\n",
              "    <tr>\n",
              "      <th>3</th>\n",
              "      <td>Bernie supporters on Twitter erupt in anger ag...</td>\n",
              "      <td>— Kaydee King (@KaydeeKing) November 9, 2016 T...</td>\n",
              "      <td>FAKE</td>\n",
              "    </tr>\n",
              "    <tr>\n",
              "      <th>4</th>\n",
              "      <td>The Battle of New York: Why This Primary Matters</td>\n",
              "      <td>It's primary day in New York and front-runners...</td>\n",
              "      <td>REAL</td>\n",
              "    </tr>\n",
              "  </tbody>\n",
              "</table>\n",
              "</div>"
            ],
            "text/plain": [
              "                                               title  ... label\n",
              "0                        You Can Smell Hillarys Fear  ...  FAKE\n",
              "1  Watch The Exact Moment Paul Ryan Committed Pol...  ...  FAKE\n",
              "2        Kerry to go to Paris in gesture of sympathy  ...  REAL\n",
              "3  Bernie supporters on Twitter erupt in anger ag...  ...  FAKE\n",
              "4   The Battle of New York: Why This Primary Matters  ...  REAL\n",
              "\n",
              "[5 rows x 3 columns]"
            ]
          },
          "metadata": {
            "tags": []
          },
          "execution_count": 24
        }
      ]
    },
    {
      "cell_type": "code",
      "metadata": {
        "id": "isUnn_0KIFui",
        "colab": {
          "base_uri": "https://localhost:8080/",
          "height": 187
        },
        "outputId": "06bfa6a5-a5cf-46aa-c2fe-3cef7f62a37f"
      },
      "source": [
        "df.shape\n",
        "df.info()"
      ],
      "execution_count": null,
      "outputs": [
        {
          "output_type": "stream",
          "text": [
            "<class 'pandas.core.frame.DataFrame'>\n",
            "Int64Index: 51652 entries, 0 to 52785\n",
            "Data columns (total 3 columns):\n",
            " #   Column  Non-Null Count  Dtype \n",
            "---  ------  --------------  ----- \n",
            " 0   title   51652 non-null  object\n",
            " 1   text    51652 non-null  object\n",
            " 2   label   51652 non-null  object\n",
            "dtypes: object(3)\n",
            "memory usage: 1.6+ MB\n"
          ],
          "name": "stdout"
        }
      ]
    },
    {
      "cell_type": "markdown",
      "metadata": {
        "id": "o_B7-yi91g2V"
      },
      "source": [
        "**CHECK NULL VALUES**"
      ]
    },
    {
      "cell_type": "code",
      "metadata": {
        "id": "9NCl-SwKGnKp"
      },
      "source": [
        "df.duplicated().sum()\n",
        "df.drop_duplicates(inplace=True)\n",
        "df"
      ],
      "execution_count": null,
      "outputs": []
    },
    {
      "cell_type": "code",
      "metadata": {
        "id": "luTPMzngf5YZ",
        "colab": {
          "base_uri": "https://localhost:8080/",
          "height": 85
        },
        "outputId": "3c5ffccb-fb21-46c5-e9bb-94867caa2bb5"
      },
      "source": [
        "df.isna().sum()"
      ],
      "execution_count": null,
      "outputs": [
        {
          "output_type": "execute_result",
          "data": {
            "text/plain": [
              "title     682\n",
              "text      917\n",
              "label    1133\n",
              "dtype: int64"
            ]
          },
          "metadata": {
            "tags": []
          },
          "execution_count": 45
        }
      ]
    },
    {
      "cell_type": "code",
      "metadata": {
        "id": "tdce-ruGgSTI"
      },
      "source": [
        "df.dropna(inplace=True)"
      ],
      "execution_count": null,
      "outputs": []
    },
    {
      "cell_type": "code",
      "metadata": {
        "id": "_RhUQEjugc-u",
        "colab": {
          "base_uri": "https://localhost:8080/",
          "height": 85
        },
        "outputId": "7d902a28-d442-40fe-a7e5-a83826de6567"
      },
      "source": [
        "df.isna().sum()"
      ],
      "execution_count": null,
      "outputs": [
        {
          "output_type": "execute_result",
          "data": {
            "text/plain": [
              "title    0\n",
              "text     0\n",
              "label    0\n",
              "dtype: int64"
            ]
          },
          "metadata": {
            "tags": []
          },
          "execution_count": 49
        }
      ]
    },
    {
      "cell_type": "code",
      "metadata": {
        "id": "3bJT3hR7IFun"
      },
      "source": [
        "x = df['title'] + \"\" + df['text']\n",
        "y = pd.get_dummies(df['label'])\n",
        "y = np.array(y)"
      ],
      "execution_count": null,
      "outputs": []
    },
    {
      "cell_type": "code",
      "metadata": {
        "id": "UuETyWZPIFu1",
        "colab": {
          "base_uri": "https://localhost:8080/",
          "height": 137
        },
        "outputId": "221fbe01-2002-41ed-be8b-24fffda7fe75"
      },
      "source": [
        "x[0]"
      ],
      "execution_count": null,
      "outputs": [
        {
          "output_type": "execute_result",
          "data": {
            "application/vnd.google.colaboratory.intrinsic+json": {
              "type": "string"
            },
            "text/plain": [
              "'you can smell hillarys feardaniel greenfield a shillman journalism fellow at the freedom center is a new york writer focusing on radical islam . in the final stretch of the election hillary rodham clinton has gone to war with the fbi . the word unprecedented has been thrown around so often this election that it ought to be retired . but its still unprecedented for the nominee of a major political party to go war with the fbi . but thats exactly what hillary and her people have done . coma patients just waking up now and watching an hour of cnn from their hospital beds would assume that fbi director james comey is hillarys opponent in this election . the fbi is under attack by everyone from obama to cnn . hillarys people have circulated a letter attacking comey . there are currently more media hit pieces lambasting him than targeting trump . it wouldnt be too surprising if the clintons or their allies were to start running attack ads against the fbi . the fbis leadership is being warned that the entire leftwing establishment will form a lynch mob if they continue going after hillary . and the fbis credibility is being attacked by the media and the democrats to preemptively head off the results of the investigation of the clinton foundation and hillary clinton . the covert struggle between fbi agents and obamas doj people has gone explosively public . the new york times has compared comey to j . edgar hoover . its bizarre headline james comey role recalls hoovers fbi fairly or not practically admits up front that its spouting nonsense . the boston globe has published a column calling for comeys resignation . not to be outdone time has an editorial claiming that the scandal is really an attack on all women . james carville appeared on msnbc to remind everyone that he was still alive and insane . he accused comey of coordinating with house republicans and the kgb . and you thought the vast right wing conspiracy was a stretch . countless media stories charge comey with violating procedure . do you know whats a procedural violation emailing classified information stored on your bathroom server . senator harry reid has sent comey a letter accusing him of violating the hatch act . the hatch act is a nice idea that has as much relevance in the age of obama as the tenth amendment . but the cable news spectrum quickly filled with media hacks glancing at the wikipedia article on the hatch act under the table while accusing the fbi director of one of the most awkward conspiracies against hillary ever . if james comey is really out to hurt hillary he picked one hell of a strange way to do it . not too long ago democrats were breathing a sigh of relief when he gave hillary clinton a pass in a prominent public statement . if he really were out to elect trump by keeping the email scandal going why did he trash the investigation was he on the payroll of house republicans and the kgb back then and playing it coy or was it a sudden development where vladimir putin and paul ryan talked him into taking a look at anthony weiners computer either comey is the most cunning fbi director that ever lived or hes just awkwardly trying to navigate a political mess that has trapped him between a doj leadership whose political futures are tied to hillarys victory and his own bureau whose apolitical agents just want to be allowed to do their jobs . the only truly mysterious thing is why hillary and her associates decided to go to war with a respected federal agency . most americans like the fbi while hillary clinton enjoys a 60 unfavorable rating . and its an interesting question . hillarys old strategy was to lie and deny that the fbi even had a criminal investigation underway . instead her associates insisted that it was a security review . the fbi corrected her and she shrugged it off . but the old breezy denial approach has given way to a savage assault on the fbi . pretending that nothing was wrong was a bad strategy but it was a better one that picking a fight with the fbi while lunatic clinton associates try to claim that the fbi is really the kgb . there are two possible explanations . hillary clinton might be arrogant enough to lash out at the fbi now that she believes that victory is near . the same kind of hubris that led her to plan her victory fireworks display could lead her to declare a war on the fbi for irritating her during the final miles of her campaign . but the other explanation is that her people panicked . going to war with the fbi is not the behavior of a smart and focused presidential campaign . its an act of desperation . when a presidential candidate decides that her only option is to try and destroy the credibility of the fbi thats not hubris its fear of what the fbi might be about to reveal about her . during the original fbi investigation hillary clinton was confident that she could ride it out . and she had good reason for believing that . but that hillary clinton is gone . in her place is a paranoid wreck . within a short space of time the positive clinton campaign promising to unite the country has been replaced by a desperate and flailing operation that has focused all its energy on fighting the fbi . theres only one reason for such bizarre behavior . the clinton campaign has decided that an fbi investigation of the latest batch of emails poses a threat to its survival . and so its gone all in on fighting the fbi . its an unprecedented step born of fear . its hard to know whether that fear is justified . but the existence of that fear already tells us a whole lot . clinton loyalists rigged the old investigation . they knew the outcome ahead of time as well as they knew the debate questions . now suddenly they are no longer in control . and they are afraid . you can smell the fear . the fbi has wiretaps from the investigation of the clinton foundation . its finding new emails all the time . and clintonworld panicked . the spinmeisters of clintonworld have claimed that the email scandal is just so much smoke without fire . all thats here is the appearance of impropriety without any of the substance . but this isnt how you react to smoke . its how you respond to a fire . the misguided assault on the fbi tells us that hillary clinton and her allies are afraid of a revelation bigger than the fundamental illegality of her email setup . the email setup was a preemptive cover up . the clinton campaign has panicked badly out of the belief right or wrong that whatever crime the illegal setup was meant to cover up is at risk of being exposed . the clintons have weathered countless scandals over the years . whatever they are protecting this time around is bigger than the usual corruption bribery sexual assaults and abuses of power that have followed them around throughout the years . this is bigger and more damaging than any of the allegations that have already come out . and they dont want fbi investigators anywhere near it . the campaign against comey is pure intimidation . its also a warning . any senior fbi people who value their careers are being warned to stay away . the democrats are closing ranks around their nominee against the fbi . its an ugly and unprecedented scene . it may also be their last stand . hillary clinton has awkwardly wound her way through numerous scandals in just this election cycle . but shes never shown fear or desperation before . now that has changed . whatever she is afraid of it lies buried in her emails with huma abedin . and it can bring her down like nothing else has .'"
            ]
          },
          "metadata": {
            "tags": []
          },
          "execution_count": 52
        }
      ]
    },
    {
      "cell_type": "code",
      "metadata": {
        "id": "ZVWPxFADIFu4",
        "colab": {
          "base_uri": "https://localhost:8080/",
          "height": 136
        },
        "outputId": "67c844a6-dcd3-4a09-c593-4800bdb27c23"
      },
      "source": [
        "y"
      ],
      "execution_count": null,
      "outputs": [
        {
          "output_type": "execute_result",
          "data": {
            "text/plain": [
              "array([[0, 0, 0, ..., 0, 0, 0],\n",
              "       [0, 0, 0, ..., 0, 0, 0],\n",
              "       [0, 0, 0, ..., 0, 0, 0],\n",
              "       ...,\n",
              "       [0, 0, 0, ..., 0, 0, 0],\n",
              "       [0, 0, 0, ..., 0, 0, 0],\n",
              "       [0, 0, 0, ..., 0, 0, 0]], dtype=uint8)"
            ]
          },
          "metadata": {
            "tags": []
          },
          "execution_count": 53
        }
      ]
    },
    {
      "cell_type": "code",
      "metadata": {
        "id": "z1SGcm-HIFu-"
      },
      "source": [
        "y = pd.get_dummies(df['label'])"
      ],
      "execution_count": null,
      "outputs": []
    },
    {
      "cell_type": "code",
      "metadata": {
        "id": "k9jUeTh5IFvC",
        "colab": {
          "base_uri": "https://localhost:8080/",
          "height": 865
        },
        "outputId": "8c71ccce-3070-45ad-e7af-55d8b9b319c4"
      },
      "source": [
        "y.head()"
      ],
      "execution_count": null,
      "outputs": [
        {
          "output_type": "execute_result",
          "data": {
            "text/html": [
              "<div>\n",
              "<style scoped>\n",
              "    .dataframe tbody tr th:only-of-type {\n",
              "        vertical-align: middle;\n",
              "    }\n",
              "\n",
              "    .dataframe tbody tr th {\n",
              "        vertical-align: top;\n",
              "    }\n",
              "\n",
              "    .dataframe thead th {\n",
              "        text-align: right;\n",
              "    }\n",
              "</style>\n",
              "<table border=\"1\" class=\"dataframe\">\n",
              "  <thead>\n",
              "    <tr style=\"text-align: right;\">\n",
              "      <th></th>\n",
              "      <th>1948. [57]</th>\n",
              "      <th>200 million microwave ovens</th>\n",
              "      <th>21 Oct. 2015. Web. 3 Aug. 2016. http://www.nytimes.com/2015/10/22/science/quantum-theory-experiment-said-to-prove-spooky-interactions.html?_r=0</th>\n",
              "      <th>Adivasis</th>\n",
              "      <th>Afghanistan and Iraq. I do not think that we have the luxury of time. Time is not on our side. Let’s pull together before it is too late</th>\n",
              "      <th>American aircraft carried out a strike against Syrian troops</th>\n",
              "      <th>Arab villages were henceforward to be leveled to prevent their reinvestment by Arab forces; the implication was that their inhabitants were to be expelled and prevented from returning.” [87] The Haganah “embarked on a campaign of clearing areas of Arab inhabitants and militia forces and conquering and leveling villages”. [88] Plan D implemented a “new policy</th>\n",
              "      <th>Aryan invaders who want to oppress the indigenous black-skinned Indians; they are the educated elites and their croneys from all castes and classes regard the workers and peasants simply as vote banks and as the labour resource to be used and thrown. BJP</th>\n",
              "      <th>Australia). ((Socialism tends to do better when there is money in the ground. Think Norway</th>\n",
              "      <th>Ben Plesser</th>\n",
              "      <th>Beyond Coal has more than 100 legal cases pending over power supply. Meanwhile</th>\n",
              "      <th>Bill Cosby’s serial predations had just exploded into the news after laying dormant for many years. Bannon was certain this signaled trouble for Bill Clinton</th>\n",
              "      <th>Brighton and the small village of Parc in France (where family legend has it we got our name from Charlemagne himself). But my family and I have no choice but to stay put.</th>\n",
              "      <th>CPI(M) and CPI (ML) and CPI have to be concentrated there.</th>\n",
              "      <th>Cabinet officials</th>\n",
              "      <th>China</th>\n",
              "      <th>Denmark passed what became known as the “ jewellery law ”</th>\n",
              "      <th>Duncan explained “Baiame came from a place that we call the Morning Star within the Mirrabooka. Mira means stars and booka means river. That is the Milky Way that flows across the North Star. ”43 Baiame</th>\n",
              "      <th>Fla. Biden stumps for Clinton in Dayton and Toledo</th>\n",
              "      <th>Francis also said he's concerned about \"\"the family</th>\n",
              "      <th>GOD I hate what we have become)</th>\n",
              "      <th>George W. Bush</th>\n",
              "      <th>God promised it to us</th>\n",
              "      <th>Haganah policy was purely defensive”</th>\n",
              "      <th>Hillary has not confessed</th>\n",
              "      <th>Hugh Naylor writes. And the impending assault represents an “intensified international effort” to increase pressure on the extremist group as it loses control of territory in the countries.</th>\n",
              "      <th>I agree</th>\n",
              "      <th>I am not rich. Wherever you think is viable</th>\n",
              "      <th>I can’t live in a country that looks the other way when a candidate is a sexist</th>\n",
              "      <th>I decided to agree with the American proposal at the talks. They were persistent and I decided to accept a compromise</th>\n",
              "      <th>I have found nothing other than often powerful statements of commitment to our nation</th>\n",
              "      <th>I really don’t have anyone to welcome me in another country</th>\n",
              "      <th>I was brought to the US when I was 13y/o and since then I have always dreamed of leaving this place. Trying to pick a career was very difficult because I also didn’t want to pay 100k on a degree here to move to another country and make significantly less</th>\n",
              "      <th>I was the only one to do so. The situation is strange; it is the only issue on which I agree with Mr Poroshenko. I have spoken about this more than once; there is nothing new here. Ultimately</th>\n",
              "      <th>I.e. Real Estate. Commodities and Industry</th>\n",
              "      <th>Israel Galili “ordered all the Haganah brigades not to uproot Arabs from the territory of the designated Jewish state.” In 1948</th>\n",
              "      <th>Ive been-a supporter.</th>\n",
              "      <th>Japanese</th>\n",
              "      <th>King of the Crimean Scythians</th>\n",
              "      <th>Morris notes). In charge of these operations was the commander of the Palmach</th>\n",
              "      <th>...</th>\n",
              "      <th>who will call the shots. World War 3 is a real distinct possibility with this charlatan in the Oval Office. Would anybody care to wager on another false flag event similar if not worse to 9-11 to further an agenda? This time</th>\n",
              "      <th>whose language I speak</th>\n",
              "      <th>whose plan left more than 400</th>\n",
              "      <th>will be</th>\n",
              "      <th>will pay about ~$1.4k per month over 25 years @ 7% pa. Were the borrower asked to repay the entire sum TODAY does that mean the borrower is insolvent? No. The borrower has 25 years of income</th>\n",
              "      <th>you are very lucky. What Freedoms and Liberties Will You Lose By Moving? Yes</th>\n",
              "      <th>you came to Shanghai on other important business and our students missed the chance to meet at the university with you and ask their question</th>\n",
              "      <th>you have the best countries for white people to live in future. For non-Caucasians</th>\n",
              "      <th>you know</th>\n",
              "      <th>you will never get ahead.</th>\n",
              "      <th>youth unemployment and crimes committed by youth and expensive housing is making Toronto a future Chicago where there is a few haves and lots of have-nots who can’t get a chance to get out of poverty legally. ArigatouGozaimas</th>\n",
              "      <th>you’ll be a part of rebuilding the country</th>\n",
              "      <th>Well</th>\n",
              "      <th>‘I want to run for mayor. I want to get revenge.’ That’s who he is</th>\n",
              "      <th>‘You’re fired!’ But when the Russians go home</th>\n",
              "      <th>“Actually the result of the purchase of land in Palestine by the Jewish National Fund has been that the land has been extraterritorialised. It ceases to be land from which the Arab can gain any advantage either now or at any time in the future. Not only can he never hope to lease or to cultivate it</th>\n",
              "      <th>“Everyone wants her to apologize. And she should.” “Apologies are like her Achilles' heel</th>\n",
              "      <th>“We must see the situation for what it is. On the security front</th>\n",
              "      <th>“What Arab cannot do his math and understand that immigration at the rate of 60</th>\n",
              "      <th>“as friends</th>\n",
              "      <th>“hieroglyphs</th>\n",
              "      <th>000 Palestinians. Therefore it was necessary to uproot them.”</th>\n",
              "      <th>000 or looking at it another way 99.99964% are staying. How many of the 1</th>\n",
              "      <th>000 per offence. And THAT is why there is a huge increase in Americans giving up there citizenship. And the US response to this phenomenon? Increase the basic consular fee from $350 to $2450</th>\n",
              "      <th>000 years. All fiat currencies</th>\n",
              "      <th>000… well</th>\n",
              "      <th>133.5 (MT; US gold reserves) x 1000 kg x 32</th>\n",
              "      <th>1917</th>\n",
              "      <th>1920</th>\n",
              "      <th>1947</th>\n",
              "      <th>500</th>\n",
              "      <th>FAKE</th>\n",
              "      <th>REAL</th>\n",
              "      <th>” Soei told me</th>\n",
              "      <th>” but he decided not to run</th>\n",
              "      <th>” by Tim Alberta and Eliana Johnson: “In February</th>\n",
              "      <th>” he says. “It’s privately owned.” Bannon wouldn’t comment either. However</th>\n",
              "      <th>” only rather than foment revolution among the proletariat</th>\n",
              "      <th>” says Bannon</th>\n",
              "      <th>” says Samuel. After they start to open businesses and bring family members</th>\n",
              "    </tr>\n",
              "  </thead>\n",
              "  <tbody>\n",
              "    <tr>\n",
              "      <th>0</th>\n",
              "      <td>0</td>\n",
              "      <td>0</td>\n",
              "      <td>0</td>\n",
              "      <td>0</td>\n",
              "      <td>0</td>\n",
              "      <td>0</td>\n",
              "      <td>0</td>\n",
              "      <td>0</td>\n",
              "      <td>0</td>\n",
              "      <td>0</td>\n",
              "      <td>0</td>\n",
              "      <td>0</td>\n",
              "      <td>0</td>\n",
              "      <td>0</td>\n",
              "      <td>0</td>\n",
              "      <td>0</td>\n",
              "      <td>0</td>\n",
              "      <td>0</td>\n",
              "      <td>0</td>\n",
              "      <td>0</td>\n",
              "      <td>0</td>\n",
              "      <td>0</td>\n",
              "      <td>0</td>\n",
              "      <td>0</td>\n",
              "      <td>0</td>\n",
              "      <td>0</td>\n",
              "      <td>0</td>\n",
              "      <td>0</td>\n",
              "      <td>0</td>\n",
              "      <td>0</td>\n",
              "      <td>0</td>\n",
              "      <td>0</td>\n",
              "      <td>0</td>\n",
              "      <td>0</td>\n",
              "      <td>0</td>\n",
              "      <td>0</td>\n",
              "      <td>0</td>\n",
              "      <td>0</td>\n",
              "      <td>0</td>\n",
              "      <td>0</td>\n",
              "      <td>...</td>\n",
              "      <td>0</td>\n",
              "      <td>0</td>\n",
              "      <td>0</td>\n",
              "      <td>0</td>\n",
              "      <td>0</td>\n",
              "      <td>0</td>\n",
              "      <td>0</td>\n",
              "      <td>0</td>\n",
              "      <td>0</td>\n",
              "      <td>0</td>\n",
              "      <td>0</td>\n",
              "      <td>0</td>\n",
              "      <td>0</td>\n",
              "      <td>0</td>\n",
              "      <td>0</td>\n",
              "      <td>0</td>\n",
              "      <td>0</td>\n",
              "      <td>0</td>\n",
              "      <td>0</td>\n",
              "      <td>0</td>\n",
              "      <td>0</td>\n",
              "      <td>0</td>\n",
              "      <td>0</td>\n",
              "      <td>0</td>\n",
              "      <td>0</td>\n",
              "      <td>0</td>\n",
              "      <td>0</td>\n",
              "      <td>0</td>\n",
              "      <td>0</td>\n",
              "      <td>0</td>\n",
              "      <td>0</td>\n",
              "      <td>1</td>\n",
              "      <td>0</td>\n",
              "      <td>0</td>\n",
              "      <td>0</td>\n",
              "      <td>0</td>\n",
              "      <td>0</td>\n",
              "      <td>0</td>\n",
              "      <td>0</td>\n",
              "      <td>0</td>\n",
              "    </tr>\n",
              "    <tr>\n",
              "      <th>1</th>\n",
              "      <td>0</td>\n",
              "      <td>0</td>\n",
              "      <td>0</td>\n",
              "      <td>0</td>\n",
              "      <td>0</td>\n",
              "      <td>0</td>\n",
              "      <td>0</td>\n",
              "      <td>0</td>\n",
              "      <td>0</td>\n",
              "      <td>0</td>\n",
              "      <td>0</td>\n",
              "      <td>0</td>\n",
              "      <td>0</td>\n",
              "      <td>0</td>\n",
              "      <td>0</td>\n",
              "      <td>0</td>\n",
              "      <td>0</td>\n",
              "      <td>0</td>\n",
              "      <td>0</td>\n",
              "      <td>0</td>\n",
              "      <td>0</td>\n",
              "      <td>0</td>\n",
              "      <td>0</td>\n",
              "      <td>0</td>\n",
              "      <td>0</td>\n",
              "      <td>0</td>\n",
              "      <td>0</td>\n",
              "      <td>0</td>\n",
              "      <td>0</td>\n",
              "      <td>0</td>\n",
              "      <td>0</td>\n",
              "      <td>0</td>\n",
              "      <td>0</td>\n",
              "      <td>0</td>\n",
              "      <td>0</td>\n",
              "      <td>0</td>\n",
              "      <td>0</td>\n",
              "      <td>0</td>\n",
              "      <td>0</td>\n",
              "      <td>0</td>\n",
              "      <td>...</td>\n",
              "      <td>0</td>\n",
              "      <td>0</td>\n",
              "      <td>0</td>\n",
              "      <td>0</td>\n",
              "      <td>0</td>\n",
              "      <td>0</td>\n",
              "      <td>0</td>\n",
              "      <td>0</td>\n",
              "      <td>0</td>\n",
              "      <td>0</td>\n",
              "      <td>0</td>\n",
              "      <td>0</td>\n",
              "      <td>0</td>\n",
              "      <td>0</td>\n",
              "      <td>0</td>\n",
              "      <td>0</td>\n",
              "      <td>0</td>\n",
              "      <td>0</td>\n",
              "      <td>0</td>\n",
              "      <td>0</td>\n",
              "      <td>0</td>\n",
              "      <td>0</td>\n",
              "      <td>0</td>\n",
              "      <td>0</td>\n",
              "      <td>0</td>\n",
              "      <td>0</td>\n",
              "      <td>0</td>\n",
              "      <td>0</td>\n",
              "      <td>0</td>\n",
              "      <td>0</td>\n",
              "      <td>0</td>\n",
              "      <td>1</td>\n",
              "      <td>0</td>\n",
              "      <td>0</td>\n",
              "      <td>0</td>\n",
              "      <td>0</td>\n",
              "      <td>0</td>\n",
              "      <td>0</td>\n",
              "      <td>0</td>\n",
              "      <td>0</td>\n",
              "    </tr>\n",
              "    <tr>\n",
              "      <th>2</th>\n",
              "      <td>0</td>\n",
              "      <td>0</td>\n",
              "      <td>0</td>\n",
              "      <td>0</td>\n",
              "      <td>0</td>\n",
              "      <td>0</td>\n",
              "      <td>0</td>\n",
              "      <td>0</td>\n",
              "      <td>0</td>\n",
              "      <td>0</td>\n",
              "      <td>0</td>\n",
              "      <td>0</td>\n",
              "      <td>0</td>\n",
              "      <td>0</td>\n",
              "      <td>0</td>\n",
              "      <td>0</td>\n",
              "      <td>0</td>\n",
              "      <td>0</td>\n",
              "      <td>0</td>\n",
              "      <td>0</td>\n",
              "      <td>0</td>\n",
              "      <td>0</td>\n",
              "      <td>0</td>\n",
              "      <td>0</td>\n",
              "      <td>0</td>\n",
              "      <td>0</td>\n",
              "      <td>0</td>\n",
              "      <td>0</td>\n",
              "      <td>0</td>\n",
              "      <td>0</td>\n",
              "      <td>0</td>\n",
              "      <td>0</td>\n",
              "      <td>0</td>\n",
              "      <td>0</td>\n",
              "      <td>0</td>\n",
              "      <td>0</td>\n",
              "      <td>0</td>\n",
              "      <td>0</td>\n",
              "      <td>0</td>\n",
              "      <td>0</td>\n",
              "      <td>...</td>\n",
              "      <td>0</td>\n",
              "      <td>0</td>\n",
              "      <td>0</td>\n",
              "      <td>0</td>\n",
              "      <td>0</td>\n",
              "      <td>0</td>\n",
              "      <td>0</td>\n",
              "      <td>0</td>\n",
              "      <td>0</td>\n",
              "      <td>0</td>\n",
              "      <td>0</td>\n",
              "      <td>0</td>\n",
              "      <td>0</td>\n",
              "      <td>0</td>\n",
              "      <td>0</td>\n",
              "      <td>0</td>\n",
              "      <td>0</td>\n",
              "      <td>0</td>\n",
              "      <td>0</td>\n",
              "      <td>0</td>\n",
              "      <td>0</td>\n",
              "      <td>0</td>\n",
              "      <td>0</td>\n",
              "      <td>0</td>\n",
              "      <td>0</td>\n",
              "      <td>0</td>\n",
              "      <td>0</td>\n",
              "      <td>0</td>\n",
              "      <td>0</td>\n",
              "      <td>0</td>\n",
              "      <td>0</td>\n",
              "      <td>0</td>\n",
              "      <td>1</td>\n",
              "      <td>0</td>\n",
              "      <td>0</td>\n",
              "      <td>0</td>\n",
              "      <td>0</td>\n",
              "      <td>0</td>\n",
              "      <td>0</td>\n",
              "      <td>0</td>\n",
              "    </tr>\n",
              "    <tr>\n",
              "      <th>3</th>\n",
              "      <td>0</td>\n",
              "      <td>0</td>\n",
              "      <td>0</td>\n",
              "      <td>0</td>\n",
              "      <td>0</td>\n",
              "      <td>0</td>\n",
              "      <td>0</td>\n",
              "      <td>0</td>\n",
              "      <td>0</td>\n",
              "      <td>0</td>\n",
              "      <td>0</td>\n",
              "      <td>0</td>\n",
              "      <td>0</td>\n",
              "      <td>0</td>\n",
              "      <td>0</td>\n",
              "      <td>0</td>\n",
              "      <td>0</td>\n",
              "      <td>0</td>\n",
              "      <td>0</td>\n",
              "      <td>0</td>\n",
              "      <td>0</td>\n",
              "      <td>0</td>\n",
              "      <td>0</td>\n",
              "      <td>0</td>\n",
              "      <td>0</td>\n",
              "      <td>0</td>\n",
              "      <td>0</td>\n",
              "      <td>0</td>\n",
              "      <td>0</td>\n",
              "      <td>0</td>\n",
              "      <td>0</td>\n",
              "      <td>0</td>\n",
              "      <td>0</td>\n",
              "      <td>0</td>\n",
              "      <td>0</td>\n",
              "      <td>0</td>\n",
              "      <td>0</td>\n",
              "      <td>0</td>\n",
              "      <td>0</td>\n",
              "      <td>0</td>\n",
              "      <td>...</td>\n",
              "      <td>0</td>\n",
              "      <td>0</td>\n",
              "      <td>0</td>\n",
              "      <td>0</td>\n",
              "      <td>0</td>\n",
              "      <td>0</td>\n",
              "      <td>0</td>\n",
              "      <td>0</td>\n",
              "      <td>0</td>\n",
              "      <td>0</td>\n",
              "      <td>0</td>\n",
              "      <td>0</td>\n",
              "      <td>0</td>\n",
              "      <td>0</td>\n",
              "      <td>0</td>\n",
              "      <td>0</td>\n",
              "      <td>0</td>\n",
              "      <td>0</td>\n",
              "      <td>0</td>\n",
              "      <td>0</td>\n",
              "      <td>0</td>\n",
              "      <td>0</td>\n",
              "      <td>0</td>\n",
              "      <td>0</td>\n",
              "      <td>0</td>\n",
              "      <td>0</td>\n",
              "      <td>0</td>\n",
              "      <td>0</td>\n",
              "      <td>0</td>\n",
              "      <td>0</td>\n",
              "      <td>0</td>\n",
              "      <td>1</td>\n",
              "      <td>0</td>\n",
              "      <td>0</td>\n",
              "      <td>0</td>\n",
              "      <td>0</td>\n",
              "      <td>0</td>\n",
              "      <td>0</td>\n",
              "      <td>0</td>\n",
              "      <td>0</td>\n",
              "    </tr>\n",
              "    <tr>\n",
              "      <th>4</th>\n",
              "      <td>0</td>\n",
              "      <td>0</td>\n",
              "      <td>0</td>\n",
              "      <td>0</td>\n",
              "      <td>0</td>\n",
              "      <td>0</td>\n",
              "      <td>0</td>\n",
              "      <td>0</td>\n",
              "      <td>0</td>\n",
              "      <td>0</td>\n",
              "      <td>0</td>\n",
              "      <td>0</td>\n",
              "      <td>0</td>\n",
              "      <td>0</td>\n",
              "      <td>0</td>\n",
              "      <td>0</td>\n",
              "      <td>0</td>\n",
              "      <td>0</td>\n",
              "      <td>0</td>\n",
              "      <td>0</td>\n",
              "      <td>0</td>\n",
              "      <td>0</td>\n",
              "      <td>0</td>\n",
              "      <td>0</td>\n",
              "      <td>0</td>\n",
              "      <td>0</td>\n",
              "      <td>0</td>\n",
              "      <td>0</td>\n",
              "      <td>0</td>\n",
              "      <td>0</td>\n",
              "      <td>0</td>\n",
              "      <td>0</td>\n",
              "      <td>0</td>\n",
              "      <td>0</td>\n",
              "      <td>0</td>\n",
              "      <td>0</td>\n",
              "      <td>0</td>\n",
              "      <td>0</td>\n",
              "      <td>0</td>\n",
              "      <td>0</td>\n",
              "      <td>...</td>\n",
              "      <td>0</td>\n",
              "      <td>0</td>\n",
              "      <td>0</td>\n",
              "      <td>0</td>\n",
              "      <td>0</td>\n",
              "      <td>0</td>\n",
              "      <td>0</td>\n",
              "      <td>0</td>\n",
              "      <td>0</td>\n",
              "      <td>0</td>\n",
              "      <td>0</td>\n",
              "      <td>0</td>\n",
              "      <td>0</td>\n",
              "      <td>0</td>\n",
              "      <td>0</td>\n",
              "      <td>0</td>\n",
              "      <td>0</td>\n",
              "      <td>0</td>\n",
              "      <td>0</td>\n",
              "      <td>0</td>\n",
              "      <td>0</td>\n",
              "      <td>0</td>\n",
              "      <td>0</td>\n",
              "      <td>0</td>\n",
              "      <td>0</td>\n",
              "      <td>0</td>\n",
              "      <td>0</td>\n",
              "      <td>0</td>\n",
              "      <td>0</td>\n",
              "      <td>0</td>\n",
              "      <td>0</td>\n",
              "      <td>0</td>\n",
              "      <td>1</td>\n",
              "      <td>0</td>\n",
              "      <td>0</td>\n",
              "      <td>0</td>\n",
              "      <td>0</td>\n",
              "      <td>0</td>\n",
              "      <td>0</td>\n",
              "      <td>0</td>\n",
              "    </tr>\n",
              "  </tbody>\n",
              "</table>\n",
              "<p>5 rows × 436 columns</p>\n",
              "</div>"
            ],
            "text/plain": [
              "    1948. [57]   ...  ” says Samuel. After they start to open businesses and bring family members\n",
              "0             0  ...                                                  0                          \n",
              "1             0  ...                                                  0                          \n",
              "2             0  ...                                                  0                          \n",
              "3             0  ...                                                  0                          \n",
              "4             0  ...                                                  0                          \n",
              "\n",
              "[5 rows x 436 columns]"
            ]
          },
          "metadata": {
            "tags": []
          },
          "execution_count": 55
        }
      ]
    },
    {
      "cell_type": "markdown",
      "metadata": {
        "id": "Ivg4VrA1IFvG"
      },
      "source": [
        "**USING GLOVE VECTORS TO CONVERT WORDS TO NUM**"
      ]
    },
    {
      "cell_type": "code",
      "metadata": {
        "id": "oFzaYnc_IFvG"
      },
      "source": [
        "with open('/content/drive/My Drive/Projects - Hackathon/FakeNews Detection/glove.6B.50d.txt','rb') as f:\n",
        "    lines = f.readlines()\n",
        "    \n",
        "glove_weights = np.zeros((len(lines), 50))\n",
        "words = []\n",
        "for i, line in enumerate(lines):\n",
        "    word_weights = line.split()\n",
        "    words.append(word_weights[0])\n",
        "    weight = word_weights[1:]\n",
        "    glove_weights[i] = np.array([float(w) for w in weight])\n",
        "word_vocab = [w.decode(\"utf-8\") for w in words]\n",
        "\n",
        "word2glove = dict(zip(word_vocab, glove_weights))"
      ],
      "execution_count": null,
      "outputs": []
    },
    {
      "cell_type": "code",
      "metadata": {
        "id": "SpZXerNEIFvI"
      },
      "source": [
        "MAX_NB_WORDS = 100000 # max number of words for tokenizer\n",
        "MAX_SEQUENCE_LENGTH = 1000 # max length of each sentences, including padding\n",
        "VALIDATION_SPLIT = 0.2 # 20% of data for validation (not used in training)\n",
        "EMBEDDING_DIM = 100 # embedding dimensions for word vectors\n",
        "GLOVE_DIR = 'glove.6B.100d.txt'"
      ],
      "execution_count": null,
      "outputs": []
    },
    {
      "cell_type": "markdown",
      "metadata": {
        "id": "a2SygPy0IFvL"
      },
      "source": [
        "**DATA CLEANING**"
      ]
    },
    {
      "cell_type": "code",
      "metadata": {
        "id": "Jgz4Dp1bIFvL",
        "colab": {
          "base_uri": "https://localhost:8080/",
          "height": 221
        },
        "outputId": "580ab095-b57b-4eb3-9524-4735cf0a0135"
      },
      "source": [
        "#df.drop('Unnamed: 0', axis=1, inplace=True)\n",
        "df.title = df.title.str.lower()\n",
        "df.text = df.text.str.lower()\n",
        "df.title = df.title.str.replace(r'http[\\w:/\\.]+','<URL>') # remove urls\n",
        "df.text = df.text.str.replace(r'http[\\w:/\\.]+','<URL>') # remove urls\n",
        "df.title = df.title.str.replace(r'[^\\.\\w\\s]','') #remove everything but characters and punctuation\n",
        "df.text = df.text.str.replace(r'[^\\.\\w\\s]','') #remove everything but characters and punctuation\n",
        "df.title = df.title.str.replace(r'\\.\\.+','.') #replace multple periods with a single one\n",
        "df.text = df.text.str.replace(r'\\.\\.+','.') #replace multple periods with a single one\n",
        "df.title = df.title.str.replace(r'\\.',' . ') #replace periods with a single one\n",
        "df.text = df.text.str.replace(r'\\.',' . ') #replace multple periods with a single one\n",
        "df.title = df.title.str.replace(r'\\s\\s+',' ') #replace multple white space with a single one\n",
        "df.text = df.text.str.replace(r'\\s\\s+',' ') #replace multple white space with a single one\n",
        "df.title = df.title.str.strip() \n",
        "df.text = df.text.str.strip() \n",
        "print(df.shape)\n",
        "df.head()"
      ],
      "execution_count": null,
      "outputs": [
        {
          "output_type": "stream",
          "text": [
            "(51652, 3)\n"
          ],
          "name": "stdout"
        },
        {
          "output_type": "execute_result",
          "data": {
            "text/html": [
              "<div>\n",
              "<style scoped>\n",
              "    .dataframe tbody tr th:only-of-type {\n",
              "        vertical-align: middle;\n",
              "    }\n",
              "\n",
              "    .dataframe tbody tr th {\n",
              "        vertical-align: top;\n",
              "    }\n",
              "\n",
              "    .dataframe thead th {\n",
              "        text-align: right;\n",
              "    }\n",
              "</style>\n",
              "<table border=\"1\" class=\"dataframe\">\n",
              "  <thead>\n",
              "    <tr style=\"text-align: right;\">\n",
              "      <th></th>\n",
              "      <th>title</th>\n",
              "      <th>text</th>\n",
              "      <th>label</th>\n",
              "    </tr>\n",
              "  </thead>\n",
              "  <tbody>\n",
              "    <tr>\n",
              "      <th>0</th>\n",
              "      <td>you can smell hillarys fear</td>\n",
              "      <td>daniel greenfield a shillman journalism fellow...</td>\n",
              "      <td>FAKE</td>\n",
              "    </tr>\n",
              "    <tr>\n",
              "      <th>1</th>\n",
              "      <td>watch the exact moment paul ryan committed pol...</td>\n",
              "      <td>google pinterest digg linkedin reddit stumbleu...</td>\n",
              "      <td>FAKE</td>\n",
              "    </tr>\n",
              "    <tr>\n",
              "      <th>2</th>\n",
              "      <td>kerry to go to paris in gesture of sympathy</td>\n",
              "      <td>u . s . secretary of state john f . kerry said...</td>\n",
              "      <td>REAL</td>\n",
              "    </tr>\n",
              "    <tr>\n",
              "      <th>3</th>\n",
              "      <td>bernie supporters on twitter erupt in anger ag...</td>\n",
              "      <td>kaydee king kaydeeking november 9 2016 the les...</td>\n",
              "      <td>FAKE</td>\n",
              "    </tr>\n",
              "    <tr>\n",
              "      <th>4</th>\n",
              "      <td>the battle of new york why this primary matters</td>\n",
              "      <td>its primary day in new york and frontrunners h...</td>\n",
              "      <td>REAL</td>\n",
              "    </tr>\n",
              "  </tbody>\n",
              "</table>\n",
              "</div>"
            ],
            "text/plain": [
              "                                               title  ... label\n",
              "0                        you can smell hillarys fear  ...  FAKE\n",
              "1  watch the exact moment paul ryan committed pol...  ...  FAKE\n",
              "2        kerry to go to paris in gesture of sympathy  ...  REAL\n",
              "3  bernie supporters on twitter erupt in anger ag...  ...  FAKE\n",
              "4    the battle of new york why this primary matters  ...  REAL\n",
              "\n",
              "[5 rows x 3 columns]"
            ]
          },
          "metadata": {
            "tags": []
          },
          "execution_count": 56
        }
      ]
    },
    {
      "cell_type": "code",
      "metadata": {
        "id": "soihJrO5IFvO"
      },
      "source": [
        "from tqdm.notebook import tqdm\n",
        "from tqdm import tqdm_notebook\n",
        "from ipywidgets import IntProgress\n",
        "from collections import Counter"
      ],
      "execution_count": null,
      "outputs": []
    },
    {
      "cell_type": "code",
      "metadata": {
        "id": "4ON8wuuJIFvR",
        "colab": {
          "base_uri": "https://localhost:8080/",
          "height": 119
        },
        "outputId": "25a14cd9-5eaa-4ebd-f86d-7db9553a5452"
      },
      "source": [
        "all_text = ' '.join(df.text.values)\n",
        "words = all_text.split()\n",
        "u_words = Counter(words).most_common()\n",
        "u_words_counter = u_words\n",
        "u_words_frequent = [word[0] for word in u_words if word[1]>5] # we will only consider words that have been used more than 5 times\n",
        "\n",
        "u_words_total = [k for k,v in u_words_counter]\n",
        "word_vocab = dict(zip(word_vocab, range(len(word_vocab))))\n",
        "word_in_glove = np.array([w in word_vocab for w in u_words_total])\n",
        "\n",
        "words_in_glove = [w for w,is_true in zip(u_words_total,word_in_glove) if is_true]\n",
        "words_not_in_glove = [w for w,is_true in zip(u_words_total,word_in_glove) if not is_true]\n",
        "\n",
        "print('Fraction of unique words in glove vectors: ', sum(word_in_glove)/len(word_in_glove))\n",
        "\n",
        "# # create the dictionary\n",
        "word2num = dict(zip(words_in_glove,range(len(words_in_glove))))\n",
        "len_glove_words = len(word2num)\n",
        "freq_words_not_glove = [w for w in words_not_in_glove if w in u_words_frequent]\n",
        "b = dict(zip(freq_words_not_glove,range(len(word2num), len(word2num)+len(freq_words_not_glove))))\n",
        "word2num = dict(**word2num, **b)\n",
        "word2num['<Other>'] = len(word2num)\n",
        "num2word = dict(zip(word2num.values(), word2num.keys()))\n",
        "\n",
        "int_text = [[word2num[word] if word in word2num else word2num['<Other>'] \n",
        "             for word in content.split()] for content in df.text.values]\n",
        "\n",
        "print('The number of unique words are: ', len(u_words))\n",
        "print('The first review looks like this: ')\n",
        "print(int_text[0][:20])\n",
        "print('And once this is converted back to words, it looks like: ')\n",
        "print(' '.join([num2word[i] for i in int_text[0][:20]]))"
      ],
      "execution_count": null,
      "outputs": [
        {
          "output_type": "stream",
          "text": [
            "Fraction of unique words in glove vectors:  0.46208299599344005\n",
            "The number of unique words are:  192684\n",
            "The first review looks like this: \n",
            "[3663, 15048, 5, 93440, 3733, 1127, 28, 0, 730, 566, 10, 5, 61, 226, 3337, 3366, 8, 1324, 1602, 1]\n",
            "And once this is converted back to words, it looks like: \n",
            "daniel greenfield a shillman journalism fellow at the freedom center is a new york writer focusing on radical islam .\n"
          ],
          "name": "stdout"
        }
      ]
    },
    {
      "cell_type": "code",
      "metadata": {
        "id": "LF3nMC3GIFvX",
        "colab": {
          "base_uri": "https://localhost:8080/",
          "height": 265
        },
        "outputId": "436b160f-efb7-438e-a576-9421ad85df6d"
      },
      "source": [
        "import matplotlib.pyplot as plt\n",
        "plt.hist([len(t) for t in int_text],50)\n",
        "plt.show()"
      ],
      "execution_count": null,
      "outputs": [
        {
          "output_type": "display_data",
          "data": {
            "image/png": "[encoded data removed]",
            "text/plain": [
              "<Figure size 432x288 with 1 Axes>"
            ]
          },
          "metadata": {
            "tags": [],
            "needs_background": "light"
          }
        }
      ]
    },
    {
      "cell_type": "code",
      "metadata": {
        "id": "l0Jpi2S8IFva",
        "colab": {
          "base_uri": "https://localhost:8080/",
          "height": 51
        },
        "outputId": "0502e9e5-b803-4bca-a964-f1152d44cfa9"
      },
      "source": [
        "print('The number of articles greater than 500 in length is: ', np.sum(np.array([len(t)>500 for t in int_text])))\n",
        "print('The number of articles less than 50 in length is: ', np.sum(np.array([len(t)<50 for t in int_text])))"
      ],
      "execution_count": null,
      "outputs": [
        {
          "output_type": "stream",
          "text": [
            "The number of articles greater than 500 in length is:  17016\n",
            "The number of articles less than 50 in length is:  2996\n"
          ],
          "name": "stdout"
        }
      ]
    },
    {
      "cell_type": "code",
      "metadata": {
        "id": "iXoN-RO8IFvc"
      },
      "source": [
        "word2num['<PAD>'] = len(word2num)\n",
        "\n",
        "for i, t in enumerate(int_text):\n",
        "    if len(t)<500:\n",
        "        int_text[i] = [word2num['<PAD>']]*(500-len(t)) + t\n",
        "    elif len(t)>500:\n",
        "        int_text[i] = t[:500]\n",
        "    else:\n",
        "        continue\n",
        "\n",
        "x = np.array(int_text)\n",
        "y = (df.label.values=='REAL').astype('int')\n",
        "X_train, X_test, y_train, y_test = train_test_split(x, y, test_size=0.2, random_state=42)"
      ],
      "execution_count": null,
      "outputs": []
    },
    {
      "cell_type": "code",
      "metadata": {
        "id": "pBoAKscJIFvf",
        "colab": {
          "base_uri": "https://localhost:8080/",
          "height": 137
        },
        "outputId": "58aaeceb-be60-4254-fbe5-6ece34537bb4"
      },
      "source": [
        "df[df.label=='REAL'].text.values[0]"
      ],
      "execution_count": null,
      "outputs": [
        {
          "output_type": "execute_result",
          "data": {
            "application/vnd.google.colaboratory.intrinsic+json": {
              "type": "string"
            },
            "text/plain": [
              "'u . s . secretary of state john f . kerry said monday that he will stop in paris later this week amid criticism that no top american officials attended sundays unity march against terrorism . kerry said he expects to arrive in paris thursday evening as he heads home after a week abroad . he said he will fly to france at the conclusion of a series of meetings scheduled for thursday in sofia bulgaria . he plans to meet the next day with foreign minister laurent fabius and president francois hollande then return to washington . the visit by kerry who has family and childhood ties to the country and speaks fluent french could address some of the criticism that the united states snubbed france in its darkest hour in many years . the french press on monday was filled with questions about why neither president obama nor kerry attended sundays march as about 40 leaders of other nations did . obama was said to have stayed away because his own security needs can be taxing on a country and kerry had prior commitments . among roughly 40 leaders who did attend was israeli prime minister benjamin netanyahu no stranger to intense security who marched beside hollande through the city streets . the highest ranking u . s . officials attending the march were jane hartley the ambassador to france and victoria nuland the assistant secretary of state for european affairs . attorney general eric h . holder jr . was in paris for meetings with law enforcement officials but did not participate in the march . kerry spent sunday at a business summit hosted by indias prime minister narendra modi . the united states is eager for india to relax stringent laws that function as barriers to foreign investment and hopes modis government will act to open the huge indian market for more american businesses . in a news conference kerry brushed aside criticism that the united states had not sent a more senior official to paris as quibbling a little bit . he noted that many staffers of the american embassy in paris attended the march including the ambassador . he said he had wanted to be present at the march himself but could not because of his prior commitments in india . but that is why i am going there on the way home to make it crystal clear how passionately we feel about the events that have taken place there he said . and i dont think the people of france have any doubts about americas understanding of what happened of our personal sense of loss and our deep commitment to the people of france in this moment of trauma .'"
            ]
          },
          "metadata": {
            "tags": []
          },
          "execution_count": 62
        }
      ]
    },
    {
      "cell_type": "code",
      "metadata": {
        "id": "0GPXqruuIFvi",
        "colab": {
          "base_uri": "https://localhost:8080/",
          "height": 137
        },
        "outputId": "f5bf1eed-ac3e-4ba8-b9a9-dcf866a19860"
      },
      "source": [
        "df[df.label=='FAKE'].text.values[0]"
      ],
      "execution_count": null,
      "outputs": [
        {
          "output_type": "execute_result",
          "data": {
            "application/vnd.google.colaboratory.intrinsic+json": {
              "type": "string"
            },
            "text/plain": [
              "'daniel greenfield a shillman journalism fellow at the freedom center is a new york writer focusing on radical islam . in the final stretch of the election hillary rodham clinton has gone to war with the fbi . the word unprecedented has been thrown around so often this election that it ought to be retired . but its still unprecedented for the nominee of a major political party to go war with the fbi . but thats exactly what hillary and her people have done . coma patients just waking up now and watching an hour of cnn from their hospital beds would assume that fbi director james comey is hillarys opponent in this election . the fbi is under attack by everyone from obama to cnn . hillarys people have circulated a letter attacking comey . there are currently more media hit pieces lambasting him than targeting trump . it wouldnt be too surprising if the clintons or their allies were to start running attack ads against the fbi . the fbis leadership is being warned that the entire leftwing establishment will form a lynch mob if they continue going after hillary . and the fbis credibility is being attacked by the media and the democrats to preemptively head off the results of the investigation of the clinton foundation and hillary clinton . the covert struggle between fbi agents and obamas doj people has gone explosively public . the new york times has compared comey to j . edgar hoover . its bizarre headline james comey role recalls hoovers fbi fairly or not practically admits up front that its spouting nonsense . the boston globe has published a column calling for comeys resignation . not to be outdone time has an editorial claiming that the scandal is really an attack on all women . james carville appeared on msnbc to remind everyone that he was still alive and insane . he accused comey of coordinating with house republicans and the kgb . and you thought the vast right wing conspiracy was a stretch . countless media stories charge comey with violating procedure . do you know whats a procedural violation emailing classified information stored on your bathroom server . senator harry reid has sent comey a letter accusing him of violating the hatch act . the hatch act is a nice idea that has as much relevance in the age of obama as the tenth amendment . but the cable news spectrum quickly filled with media hacks glancing at the wikipedia article on the hatch act under the table while accusing the fbi director of one of the most awkward conspiracies against hillary ever . if james comey is really out to hurt hillary he picked one hell of a strange way to do it . not too long ago democrats were breathing a sigh of relief when he gave hillary clinton a pass in a prominent public statement . if he really were out to elect trump by keeping the email scandal going why did he trash the investigation was he on the payroll of house republicans and the kgb back then and playing it coy or was it a sudden development where vladimir putin and paul ryan talked him into taking a look at anthony weiners computer either comey is the most cunning fbi director that ever lived or hes just awkwardly trying to navigate a political mess that has trapped him between a doj leadership whose political futures are tied to hillarys victory and his own bureau whose apolitical agents just want to be allowed to do their jobs . the only truly mysterious thing is why hillary and her associates decided to go to war with a respected federal agency . most americans like the fbi while hillary clinton enjoys a 60 unfavorable rating . and its an interesting question . hillarys old strategy was to lie and deny that the fbi even had a criminal investigation underway . instead her associates insisted that it was a security review . the fbi corrected her and she shrugged it off . but the old breezy denial approach has given way to a savage assault on the fbi . pretending that nothing was wrong was a bad strategy but it was a better one that picking a fight with the fbi while lunatic clinton associates try to claim that the fbi is really the kgb . there are two possible explanations . hillary clinton might be arrogant enough to lash out at the fbi now that she believes that victory is near . the same kind of hubris that led her to plan her victory fireworks display could lead her to declare a war on the fbi for irritating her during the final miles of her campaign . but the other explanation is that her people panicked . going to war with the fbi is not the behavior of a smart and focused presidential campaign . its an act of desperation . when a presidential candidate decides that her only option is to try and destroy the credibility of the fbi thats not hubris its fear of what the fbi might be about to reveal about her . during the original fbi investigation hillary clinton was confident that she could ride it out . and she had good reason for believing that . but that hillary clinton is gone . in her place is a paranoid wreck . within a short space of time the positive clinton campaign promising to unite the country has been replaced by a desperate and flailing operation that has focused all its energy on fighting the fbi . theres only one reason for such bizarre behavior . the clinton campaign has decided that an fbi investigation of the latest batch of emails poses a threat to its survival . and so its gone all in on fighting the fbi . its an unprecedented step born of fear . its hard to know whether that fear is justified . but the existence of that fear already tells us a whole lot . clinton loyalists rigged the old investigation . they knew the outcome ahead of time as well as they knew the debate questions . now suddenly they are no longer in control . and they are afraid . you can smell the fear . the fbi has wiretaps from the investigation of the clinton foundation . its finding new emails all the time . and clintonworld panicked . the spinmeisters of clintonworld have claimed that the email scandal is just so much smoke without fire . all thats here is the appearance of impropriety without any of the substance . but this isnt how you react to smoke . its how you respond to a fire . the misguided assault on the fbi tells us that hillary clinton and her allies are afraid of a revelation bigger than the fundamental illegality of her email setup . the email setup was a preemptive cover up . the clinton campaign has panicked badly out of the belief right or wrong that whatever crime the illegal setup was meant to cover up is at risk of being exposed . the clintons have weathered countless scandals over the years . whatever they are protecting this time around is bigger than the usual corruption bribery sexual assaults and abuses of power that have followed them around throughout the years . this is bigger and more damaging than any of the allegations that have already come out . and they dont want fbi investigators anywhere near it . the campaign against comey is pure intimidation . its also a warning . any senior fbi people who value their careers are being warned to stay away . the democrats are closing ranks around their nominee against the fbi . its an ugly and unprecedented scene . it may also be their last stand . hillary clinton has awkwardly wound her way through numerous scandals in just this election cycle . but shes never shown fear or desperation before . now that has changed . whatever she is afraid of it lies buried in her emails with huma abedin . and it can bring her down like nothing else has .'"
            ]
          },
          "metadata": {
            "tags": []
          },
          "execution_count": 63
        }
      ]
    },
    {
      "cell_type": "markdown",
      "metadata": {
        "id": "5ajr1l20rw0u"
      },
      "source": [
        "**TRAIN LSTM MODEL**"
      ]
    },
    {
      "cell_type": "code",
      "metadata": {
        "id": "2c4N_pJob1U2",
        "colab": {
          "base_uri": "https://localhost:8080/",
          "height": 323
        },
        "outputId": "1fc417e7-d41a-4193-c4d1-2bcc23d2ae0e"
      },
      "source": [
        "#Defining Neural Network\n",
        "model = Sequential()\n",
        "#Non-trainable embeddidng layer\n",
        "model.add(Embedding(len(word2num), 50))\n",
        "#LSTM \n",
        "model.add(LSTM(units=128 , return_sequences = True , recurrent_dropout = 0.25 , dropout = 0.25))\n",
        "model.add(LSTM(units=64 , recurrent_dropout = 0.1 , dropout = 0.1))\n",
        "model.add(Dense(units = 32 , activation = 'relu'))\n",
        "model.add(Dense(1, activation='sigmoid'))\n",
        "model.compile(optimizer=keras.optimizers.Adam(lr = 0.01), loss='binary_crossentropy', metrics=['accuracy'])\n",
        "model.summary()"
      ],
      "execution_count": null,
      "outputs": [
        {
          "output_type": "stream",
          "text": [
            "Model: \"sequential_2\"\n",
            "_________________________________________________________________\n",
            "Layer (type)                 Output Shape              Param #   \n",
            "=================================================================\n",
            "embedding_2 (Embedding)      (None, None, 50)          4854200   \n",
            "_________________________________________________________________\n",
            "lstm_3 (LSTM)                (None, None, 128)         91648     \n",
            "_________________________________________________________________\n",
            "lstm_4 (LSTM)                (None, 64)                49408     \n",
            "_________________________________________________________________\n",
            "dense_3 (Dense)              (None, 32)                2080      \n",
            "_________________________________________________________________\n",
            "dense_4 (Dense)              (None, 1)                 33        \n",
            "=================================================================\n",
            "Total params: 4,997,369\n",
            "Trainable params: 4,997,369\n",
            "Non-trainable params: 0\n",
            "_________________________________________________________________\n"
          ],
          "name": "stdout"
        }
      ]
    },
    {
      "cell_type": "code",
      "metadata": {
        "id": "kR4dlIrEcn7O"
      },
      "source": [
        "from keras.callbacks import ReduceLROnPlateau\n",
        "learning_rate_reduction = ReduceLROnPlateau(monitor='val_accuracy', patience = 2, verbose=1,factor=0.5, min_lr=0.00001)"
      ],
      "execution_count": null,
      "outputs": []
    },
    {
      "cell_type": "code",
      "metadata": {
        "id": "degfZwcPIFvp",
        "colab": {
          "base_uri": "https://localhost:8080/",
          "height": 411
        },
        "outputId": "5b60385b-7a5c-42f0-f93f-c5e6de1161f8"
      },
      "source": [
        "model.fit(X_train, y_train, batch_size=128, epochs=8, validation_data=(X_test, y_test),callbacks = [learning_rate_reduction])"
      ],
      "execution_count": null,
      "outputs": [
        {
          "output_type": "stream",
          "text": [
            "/usr/local/lib/python3.6/dist-packages/tensorflow/python/framework/indexed_slices.py:434: UserWarning: Converting sparse IndexedSlices to a dense Tensor of unknown shape. This may consume a large amount of memory.\n",
            "  \"Converting sparse IndexedSlices to a dense Tensor of unknown shape. \"\n"
          ],
          "name": "stderr"
        },
        {
          "output_type": "stream",
          "text": [
            "Train on 41321 samples, validate on 10331 samples\n",
            "Epoch 1/8\n",
            "41321/41321 [==============================] - 1232s 30ms/step - loss: 0.2935 - accuracy: 0.8688 - val_loss: 0.0923 - val_accuracy: 0.9610\n",
            "Epoch 2/8\n",
            "41321/41321 [==============================] - 1228s 30ms/step - loss: 0.0717 - accuracy: 0.9727 - val_loss: 0.0498 - val_accuracy: 0.9828\n",
            "Epoch 3/8\n",
            "41321/41321 [==============================] - 1189s 29ms/step - loss: 0.0283 - accuracy: 0.9901 - val_loss: 0.0456 - val_accuracy: 0.9828\n",
            "Epoch 4/8\n",
            "41321/41321 [==============================] - 1205s 29ms/step - loss: 0.0168 - accuracy: 0.9947 - val_loss: 0.0430 - val_accuracy: 0.9853\n",
            "Epoch 5/8\n",
            "41321/41321 [==============================] - 1206s 29ms/step - loss: 0.0111 - accuracy: 0.9966 - val_loss: 0.0534 - val_accuracy: 0.9854\n",
            "Epoch 6/8\n",
            "41321/41321 [==============================] - 1228s 30ms/step - loss: 0.0086 - accuracy: 0.9978 - val_loss: 0.0426 - val_accuracy: 0.9877\n",
            "Epoch 7/8\n",
            "41321/41321 [==============================] - 1234s 30ms/step - loss: 0.0057 - accuracy: 0.9983 - val_loss: 0.0586 - val_accuracy: 0.9863\n",
            "Epoch 8/8\n",
            "41321/41321 [==============================] - 1214s 29ms/step - loss: 0.0068 - accuracy: 0.9981 - val_loss: 0.0445 - val_accuracy: 0.9872\n",
            "\n",
            "Epoch 00008: ReduceLROnPlateau reducing learning rate to 0.004999999888241291.\n"
          ],
          "name": "stdout"
        },
        {
          "output_type": "execute_result",
          "data": {
            "text/plain": [
              "<keras.callbacks.callbacks.History at 0x7fc2b6462438>"
            ]
          },
          "metadata": {
            "tags": []
          },
          "execution_count": 66
        }
      ]
    },
    {
      "cell_type": "code",
      "metadata": {
        "id": "VIZAsY4JIFv1"
      },
      "source": [
        "model.evaluate(X_test, y_test)"
      ],
      "execution_count": null,
      "outputs": []
    },
    {
      "cell_type": "code",
      "metadata": {
        "id": "awIXky-tieol"
      },
      "source": [
        "#model.save_weights('model')"
      ],
      "execution_count": null,
      "outputs": []
    },
    {
      "cell_type": "markdown",
      "metadata": {
        "id": "9hiINf7UreO8"
      },
      "source": [
        "**CHECK RESULTS**"
      ]
    },
    {
      "cell_type": "code",
      "metadata": {
        "id": "pBqaG6WZIFvr"
      },
      "source": [
        "sentence = \"North korea is testing out missiles on americans living overseas .\".lower()\n",
        "sentence_num = [word2num[w] if w in word2num else word2num['<Other>'] for w in sentence.split()]\n",
        "sentence_num = [word2num['<PAD>']]*(500-len(sentence_num)) + sentence_num\n",
        "sentence_num = np.array(sentence_num)\n",
        "model.predict(sentence_num[None,:])"
      ],
      "execution_count": null,
      "outputs": []
    },
    {
      "cell_type": "code",
      "metadata": {
        "id": "vZI5EBlcIFvu"
      },
      "source": [
        "sentence = \"The chemicals in the water is turning the freaking frogs gay says cnn . \".lower()\n",
        "sentence_num = [word2num[w] if w in word2num else word2num['<Other>'] for w in sentence.split()]\n",
        "sentence_num = [word2num['<PAD>']]*(500-len(sentence_num)) + sentence_num\n",
        "sentence_num = np.array(sentence_num)\n",
        "model.predict(sentence_num[None,:])"
      ],
      "execution_count": null,
      "outputs": []
    },
    {
      "cell_type": "code",
      "metadata": {
        "id": "vcoqi6CTIFvx"
      },
      "source": [
        "#Have we finally reached a moment of promise and possibility on race? - real(P:fake)\n",
        "#5 ways racism is bad for business – and what we can do about it - real(P:real)\n",
        "#'We existed in parallel universes’ – what it’s like to be black in Silicon Valley - real(P:fake)\n",
        "#The Forum’s COVID Action Platform: Over 1,000 organizations are working together in response to the pandemic - real(P:fake)\n",
        "sentence = \"The Forum’s COVID Action Platform: Over 1,000 organizations are working together in response to the pandemic\".lower()\n",
        "sentence_num = [word2num[w] if w in word2num else word2num['<Other>'] for w in sentence.split()]\n",
        "sentence_num = [word2num['<PAD>']]*(0) + sentence_num\n",
        "sentence_num = np.array(sentence_num)\n",
        "model.predict(sentence_num[None,:])"
      ],
      "execution_count": null,
      "outputs": []
    },
    {
      "cell_type": "code",
      "metadata": {
        "id": "SZqwElztJ6l4"
      },
      "source": [
        "sentence = \"The most exceedingly terrible of the pandemic is yet to come. Until this point in time, just a couple of nations are successfully containing the infection, while in a dominant part of countries, COVID-19 is either seething or reemerging with neighborhood episodes, restricted or not really. As of now, in scarcely a half year, the COVID-19 pandemic has plunged our reality completely - and every one of us independently - into the most testing occasions we've looked in ages. It is a pivotal turning point – we will manage its aftermath for a considerable length of time, and numerous things will change until the end of time. It has fashioned (and will keep on doing as such) financial interruption of stupendous extents, making danger and unpredictability on numerous fronts – political, social, international – while compounding profound worries about the earth and furthermore broadening the span (poisonous or something else) of innovation into our lives.\".lower()\n",
        "sentence_num = [word2num[w] if w in word2num else word2num['<Other>'] for w in sentence.split()]\n",
        "sentence_num = [word2num['<PAD>']]*(0) + sentence_num\n",
        "sentence_num = np.array(sentence_num)\n",
        "model.predict(sentence_num[None,:])"
      ],
      "execution_count": null,
      "outputs": []
    },
    {
      "cell_type": "code",
      "metadata": {
        "id": "AiKyDoisMf-G"
      },
      "source": [
        "sentence = \"Kerry to go to Paris in gesture of sympathy\".lower()\n",
        "sentence_num = [word2num[w] if w in word2num else word2num['<Other>'] for w in sentence.split()]\n",
        "sentence_num = [word2num['<PAD>']]*(0) + sentence_num\n",
        "sentence_num = np.array(sentence_num)\n",
        "model.predict(sentence_num[None,:])"
      ],
      "execution_count": null,
      "outputs": []
    },
    {
      "cell_type": "code",
      "metadata": {
        "id": "RHOH6s9sKWUW"
      },
      "source": [
        "sentence = \"The worst of the pandemic is yet to come. To date, only a few countries are effectively containing the virus, while in a majority of nations, COVID-19 is either raging or resurfacing with local outbreaks, limited or not so.Already, in barely six months, the COVID-19 pandemic has plunged our world in its entirety - and each of us individually - into the most challenging times we’ve faced in generations. It is a defining moment – we will be dealing with its fallout for years, and many things will change forever. It has wrought (and will continue to do so) economic disruption of monumental proportions, creating risk and volatility on multiple fronts – political, social, geopolitical – while exacerbating deep concerns about the environment and also extending the reach (pernicious or otherwise) of technology into our lives.\".lower()\n",
        "sentence_num = [word2num[w] if w in word2num else word2num['<Other>'] for w in sentence.split()]\n",
        "sentence_num = [word2num['<PAD>']]*(0) + sentence_num\n",
        "sentence_num = np.array(sentence_num)\n",
        "model.predict(sentence_num[None,:])"
      ],
      "execution_count": null,
      "outputs": []
    },
    {
      "cell_type": "markdown",
      "metadata": {
        "id": "XpNWrS4Kro_T"
      },
      "source": [
        "**SAVE MODEL**"
      ]
    },
    {
      "cell_type": "code",
      "metadata": {
        "id": "4tcR6eLEcXiZ"
      },
      "source": [
        "import pickle\n",
        "pickle.dump( model, open( \"model_lstm.pkl\", \"wb\" ) )"
      ],
      "execution_count": null,
      "outputs": []
    }
  ]
}